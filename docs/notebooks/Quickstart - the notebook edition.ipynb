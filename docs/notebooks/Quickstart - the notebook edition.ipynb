{
 "cells": [
  {
   "cell_type": "markdown",
   "metadata": {},
   "source": [
    "# Presamples"
   ]
  },
  {
   "cell_type": "markdown",
   "metadata": {},
   "source": [
    "## Quickstart"
   ]
  },
  {
   "cell_type": "markdown",
   "metadata": {},
   "source": [
    "This is a notebook version of the Quickstart page found [here](https://presamples.readthedocs.io/en/latest/quickstart.html)\n",
    "\n",
    "It provides a brief overview of the use of presamples for named parameters via a simple example."
   ]
  },
  {
   "cell_type": "markdown",
   "metadata": {},
   "source": [
    "**Note**  \n",
    "While presamples are application-agnostic, the package was developed in the context of the [Brightway2 LCA framework](https://brightwaylca.org/). If you are interested in using presamples for LCA and are new to presamples, you should move on to [Using presamples with brightway2](https://presamples.readthedocs.io/en/latest/use_with_bw2.html#use-with-bw2) after reading this section.\n",
    "\n",
    "**Note**  \n",
    "This section really only provides a brief overview. For a more in-depth presentation of the API, read the [Technical reference](https://presamples.readthedocs.io/en/latest/tech_ref.html#tech-ref) section. Also, the examples in this section are minimalistic. For some more concrete examples, refer to the [Examples](https://presamples.readthedocs.io/en/latest/examples.html#examples) section."
   ]
  },
  {
   "cell_type": "markdown",
   "metadata": {},
   "source": [
    "### The objectives of presamples\n",
    "\n",
    "Presamples was written to meet two specific needs: \n",
    "- the need to store and provide access to arrays of data that are inputs to a model;  \n",
    "- the need to have a flexible data hierarchy so that some arrays can be replaced by other arrays when running a model.  \n",
    "\n",
    "Presamples is used to write, load, manage and verify presample arrays, which are simply arrays of values specific parameters can take. These are stored in presample packages, which are based on the datapackage standard by the Open Knowledge Foundation.\n",
    "\n",
    "These presample arrays can be based on any source:\n",
    "\n",
    "  - Measured data;  \n",
    "  - Time series data from a statistical agency;  \n",
    "  - Array of random values generated from a given distribution;  \n",
    "  - The output from a MonteCarlo Simulation from a model;  \n",
    "  - A hat.  \n",
    "\n",
    "Presamples allows these arrays to be generated ahead of their use in a particular model. This is useful if:\n",
    "\n",
    "  - Generating these values is computationally expensive and there is no need to recalculate them with each model run;  \n",
    "  - We want to reuse the same values every time a model is solved.  \n",
    "\n",
    "Also, when multiple presample packages are accessed for a single parameter, only the last values are used. This allows a baseline model to be modulated with different input data (scenarios) without actually making changes to the baseline data."
   ]
  },
  {
   "cell_type": "markdown",
   "metadata": {},
   "source": [
    "### Simple example: Fertilizer inputs to cereal production in Canada\n",
    "\n",
    "For illustration, let’s suppose you have a simple model that calculates the amount of fertilizer used to grow 1 kg of cereals in Canada. The model has three inputs:\n",
    "\n",
    "  - Total amount of fertilizers used per km2 for a given year  \n",
    "  - The total land under cultivation for the same year  \n",
    "  - The total output of cereals for the same year  \n",
    "\n",
    "The model is simply:"
   ]
  },
  {
   "cell_type": "code",
   "execution_count": 1,
   "metadata": {},
   "outputs": [],
   "source": [
    "def fert_per_kg(fert_kg_per_km2, land_ha, cereal_t):\n",
    "    return fert_kg_per_km2 * (land_ha / 100) / (cereal_t / 1000)"
   ]
  },
  {
   "cell_type": "markdown",
   "metadata": {},
   "source": [
    "The following data, stored as arrays, were collected for years 2003-2015 from the World Bank website:"
   ]
  },
  {
   "cell_type": "code",
   "execution_count": 3,
   "metadata": {},
   "outputs": [],
   "source": [
    "import numpy as np\n",
    "\n",
    "# Cereal production, in metric tons\n",
    "cereal_production_array = np.array(\n",
    "    [\n",
    "        49197200, 50778200, 50962400, 48577300, 48005300, \n",
    "        56030400, 49691900, 45793400, 47667200, 51799100, \n",
    "        66405701, 51535801, 53361100\n",
    "    ], dtype=np.int64\n",
    ")\n",
    "\n",
    "# Fertilizer consumption, in kg/km^2\n",
    "fertilizer_consumption_array = np.array(\n",
    "     [\n",
    "         57.63016664, 58.92761065, 54.63277483, 61.82127866, 46.99494591, \n",
    "         68.60414475, 63.96407104, 62.20875736, 62.26266793, 77.0963275, \n",
    "         94.15242211, 96.13617882, 115.82229301\n",
    "     ], dtype=np.float64\n",
    ")\n",
    "\n",
    "# Land used for cereal production, in hectares\n",
    "land_for_cereals_array = np.array(\n",
    "    [\n",
    "        17833000, 16161700, 15846800, 15946100, 16145100, \n",
    "        16519700, 15060300, 13156000, 13536700, 14981496, \n",
    "        15924684, 14023084, 14581100\n",
    "     ], dtype=np.int64\n",
    ")"
   ]
  },
  {
   "cell_type": "markdown",
   "metadata": {},
   "source": [
    "### Creating presample packages for data inputs\n",
    "\n",
    "To create a presamples package for the input data described above:"
   ]
  },
  {
   "cell_type": "code",
   "execution_count": 4,
   "metadata": {},
   "outputs": [],
   "source": [
    "import presamples\n",
    "\n",
    "# Stack arrays of data.\n",
    "# The number of columns equals the number of observations\n",
    "# The number of rows equals the number of parameters\n",
    "ag_sample_arr = np.stack(\n",
    "    [\n",
    "        cereal_production_array,\n",
    "        fertilizer_consumption_array,\n",
    "        land_for_cereals_array\n",
    "    ], axis=0\n",
    ")\n",
    "\n",
    "# Create a list of your parameter names\n",
    "ag_names = ['cereal production [t]', 'fert consumption [kg/km2]', 'land [ha]']\n",
    "\n",
    "pp_id, pp_path = presamples.create_presamples_package(\n",
    "    parameter_data = [(ag_sample_arr, ag_names, \"Agri baseline data\")],\n",
    "    name=\"Baseline agri data - presample package\"\n",
    ")"
   ]
  },
  {
   "cell_type": "markdown",
   "metadata": {},
   "source": [
    "This function does several things:\n",
    "\n",
    "  - It stores the samples to a numpy array and the parameter names as a json file to disk, at the location `pp_path`\n",
    "  - It generates a file ` datapackage.json` that contains metadata on the presamples package."
   ]
  },
  {
   "cell_type": "code",
   "execution_count": 5,
   "metadata": {},
   "outputs": [
    {
     "data": {
      "text/plain": [
       "['5c7996c5cac14b6a9209d14e95831214.0.names.json',\n",
       " '5c7996c5cac14b6a9209d14e95831214.0.samples.npy',\n",
       " 'datapackage.json']"
      ]
     },
     "execution_count": 5,
     "metadata": {},
     "output_type": "execute_result"
    }
   ],
   "source": [
    "import os\n",
    "os.listdir(pp_path)"
   ]
  },
  {
   "cell_type": "markdown",
   "metadata": {},
   "source": [
    "The datapackage has the following structure:"
   ]
  },
  {
   "cell_type": "code",
   "execution_count": 6,
   "metadata": {
    "scrolled": true
   },
   "outputs": [
    {
     "name": "stdout",
     "output_type": "stream",
     "text": [
      "{\n",
      "    \"name\": \"Baseline agri data - presample package\",\n",
      "    \"id\": \"5c7996c5cac14b6a9209d14e95831214\",\n",
      "    \"profile\": \"data-package\",\n",
      "    \"seed\": null,\n",
      "    \"resources\": [\n",
      "        {\n",
      "            \"samples\": {\n",
      "                \"filepath\": \"5c7996c5cac14b6a9209d14e95831214.0.samples.npy\",\n",
      "                \"md5\": \"58978441f250cadca1d5829110d23942\",\n",
      "                \"shape\": [\n",
      "                    3,\n",
      "                    13\n",
      "                ],\n",
      "                \"dtype\": \"float64\",\n",
      "                \"format\": \"npy\",\n",
      "                \"mediatype\": \"application/octet-stream\"\n",
      "            },\n",
      "            \"names\": {\n",
      "                \"filepath\": \"5c7996c5cac14b6a9209d14e95831214.0.names.json\",\n",
      "                \"md5\": \"c2202d5f8fd5fd9eb11e3cd528b6b14d\",\n",
      "                \"format\": \"json\",\n",
      "                \"mediatype\": \"application/json\"\n",
      "            },\n",
      "            \"profile\": \"data-resource\",\n",
      "            \"label\": \"Agri baseline data\",\n",
      "            \"index\": 0\n",
      "        }\n",
      "    ],\n",
      "    \"ncols\": 13\n",
      "}\n"
     ]
    }
   ],
   "source": [
    "import json\n",
    "with open(pp_path/'datapackage.json', 'rb') as f:\n",
    "    datapackage = json.load(f)\n",
    "print(json.dumps(datapackage, indent=4))"
   ]
  },
  {
   "cell_type": "markdown",
   "metadata": {},
   "source": [
    "See the [Technical reference](https://presamples.readthedocs.io/en/latest/tech_ref.html#tech-ref) for more detail and for a list of other arguments."
   ]
  },
  {
   "cell_type": "markdown",
   "metadata": {},
   "source": [
    "### Direct interface to presamples package\n",
    "\n",
    "To interact directly with a single presamples package:"
   ]
  },
  {
   "cell_type": "code",
   "execution_count": 7,
   "metadata": {},
   "outputs": [],
   "source": [
    "package = presamples.PresamplesPackage(pp_path)"
   ]
  },
  {
   "cell_type": "markdown",
   "metadata": {},
   "source": [
    "The entire content of the `datapackage.json` file is returned by `package.metadata`.\n",
    "\n",
    "The package can also be used to directly return several properties contained in the datapackage, for example:"
   ]
  },
  {
   "cell_type": "code",
   "execution_count": 8,
   "metadata": {},
   "outputs": [
    {
     "data": {
      "text/plain": [
       "'Baseline agri data - presample package'"
      ]
     },
     "execution_count": 8,
     "metadata": {},
     "output_type": "execute_result"
    }
   ],
   "source": [
    "package.name  # Name passed as optional argument in ``create_presamples_package``"
   ]
  },
  {
   "cell_type": "code",
   "execution_count": 9,
   "metadata": {},
   "outputs": [
    {
     "data": {
      "text/plain": [
       "13"
      ]
     },
     "execution_count": 9,
     "metadata": {},
     "output_type": "execute_result"
    }
   ],
   "source": [
    "package.ncols # Number of columns, i.e. number of observations stored in the presamples array"
   ]
  },
  {
   "cell_type": "code",
   "execution_count": 10,
   "metadata": {},
   "outputs": [
    {
     "data": {
      "text/plain": [
       "'5c7996c5cac14b6a9209d14e95831214'"
      ]
     },
     "execution_count": 10,
     "metadata": {},
     "output_type": "execute_result"
    }
   ],
   "source": [
    "package.id"
   ]
  },
  {
   "cell_type": "markdown",
   "metadata": {},
   "source": [
    "Accessing the package’s `resources` provides metadata on the stored data and filepaths to access it. `packages.resources` returns a list with as many resources as were passed in `create_presamples_package`. In our simple example, only one set of parameter data was passed, so `packages.resources` only contains one element."
   ]
  },
  {
   "cell_type": "code",
   "execution_count": 11,
   "metadata": {},
   "outputs": [
    {
     "data": {
      "text/plain": [
       "[{'samples': {'filepath': '5c7996c5cac14b6a9209d14e95831214.0.samples.npy',\n",
       "   'md5': '58978441f250cadca1d5829110d23942',\n",
       "   'shape': [3, 13],\n",
       "   'dtype': 'float64',\n",
       "   'format': 'npy',\n",
       "   'mediatype': 'application/octet-stream'},\n",
       "  'names': {'filepath': '5c7996c5cac14b6a9209d14e95831214.0.names.json',\n",
       "   'md5': 'c2202d5f8fd5fd9eb11e3cd528b6b14d',\n",
       "   'format': 'json',\n",
       "   'mediatype': 'application/json'},\n",
       "  'profile': 'data-resource',\n",
       "  'label': 'Agri baseline data',\n",
       "  'index': 0}]"
      ]
     },
     "execution_count": 11,
     "metadata": {},
     "output_type": "execute_result"
    }
   ],
   "source": [
    "package.resources # List of resources, in simple example there is one"
   ]
  },
  {
   "cell_type": "markdown",
   "metadata": {},
   "source": [
    "The `PresamplesPackage` also provides a `ParametersMapping` interface to access named parameter data:"
   ]
  },
  {
   "cell_type": "code",
   "execution_count": 12,
   "metadata": {},
   "outputs": [
    {
     "data": {
      "text/plain": [
       "<presamples.package_interface.ParametersMapping at 0x1ee7b05c7b8>"
      ]
     },
     "execution_count": 12,
     "metadata": {},
     "output_type": "execute_result"
    }
   ],
   "source": [
    "package.parameters"
   ]
  },
  {
   "cell_type": "code",
   "execution_count": 13,
   "metadata": {},
   "outputs": [
    {
     "data": {
      "text/plain": [
       "['cereal production [t]', 'fert consumption [kg/km2]', 'land [ha]']"
      ]
     },
     "execution_count": 13,
     "metadata": {},
     "output_type": "execute_result"
    }
   ],
   "source": [
    "list(package.parameters.keys())"
   ]
  },
  {
   "cell_type": "code",
   "execution_count": 14,
   "metadata": {},
   "outputs": [
    {
     "data": {
      "text/plain": [
       "[memmap([49197200., 50778200., 50962400., 48577300., 48005300., 56030400.,\n",
       "         49691900., 45793400., 47667200., 51799100., 66405701., 51535801.,\n",
       "         53361100.]),\n",
       " memmap([ 57.63016664,  58.92761065,  54.63277483,  61.82127866,\n",
       "          46.99494591,  68.60414475,  63.96407104,  62.20875736,\n",
       "          62.26266793,  77.0963275 ,  94.15242211,  96.13617882,\n",
       "         115.82229301]),\n",
       " memmap([17833000., 16161700., 15846800., 15946100., 16145100., 16519700.,\n",
       "         15060300., 13156000., 13536700., 14981496., 15924684., 14023084.,\n",
       "         14581100.])]"
      ]
     },
     "execution_count": 14,
     "metadata": {},
     "output_type": "execute_result"
    }
   ],
   "source": [
    "list(package.parameters.values()) # Note that the arrays are memory mapped"
   ]
  },
  {
   "cell_type": "code",
   "execution_count": 15,
   "metadata": {},
   "outputs": [
    {
     "data": {
      "text/plain": [
       "{'cereal production [t]': memmap([49197200., 50778200., 50962400., 48577300., 48005300., 56030400.,\n",
       "         49691900., 45793400., 47667200., 51799100., 66405701., 51535801.,\n",
       "         53361100.]),\n",
       " 'fert consumption [kg/km2]': memmap([ 57.63016664,  58.92761065,  54.63277483,  61.82127866,\n",
       "          46.99494591,  68.60414475,  63.96407104,  62.20875736,\n",
       "          62.26266793,  77.0963275 ,  94.15242211,  96.13617882,\n",
       "         115.82229301]),\n",
       " 'land [ha]': memmap([17833000., 16161700., 15846800., 15946100., 16145100., 16519700.,\n",
       "         15060300., 13156000., 13536700., 14981496., 15924684., 14023084.,\n",
       "         14581100.])}"
      ]
     },
     "execution_count": 15,
     "metadata": {},
     "output_type": "execute_result"
    }
   ],
   "source": [
    "{k:v for k, v in package.parameters.items()}"
   ]
  },
  {
   "cell_type": "markdown",
   "metadata": {},
   "source": [
    "You can also get a specific array directly from the parameter name:"
   ]
  },
  {
   "cell_type": "code",
   "execution_count": 16,
   "metadata": {},
   "outputs": [
    {
     "data": {
      "text/plain": [
       "memmap([17833000., 16161700., 15846800., 15946100., 16145100., 16519700.,\n",
       "        15060300., 13156000., 13536700., 14981496., 15924684., 14023084.,\n",
       "        14581100.])"
      ]
     },
     "execution_count": 16,
     "metadata": {},
     "output_type": "execute_result"
    }
   ],
   "source": [
    "package.parameters['land [ha]']"
   ]
  },
  {
   "cell_type": "markdown",
   "metadata": {},
   "source": [
    "Note that the values from **all** columns are returned, which makes the `PresamplePackages` a useful interface for models that accept arrays as inputs:"
   ]
  },
  {
   "cell_type": "code",
   "execution_count": 17,
   "metadata": {},
   "outputs": [
    {
     "data": {
      "text/plain": [
       "array([208.89781567, 187.55496749, 169.88106058, 202.93599925,\n",
       "       158.05298607, 202.26874876, 193.85817388, 178.71973075,\n",
       "       176.8157259 , 222.98038423, 225.78597129, 261.59013441,\n",
       "       316.48831014])"
      ]
     },
     "execution_count": 17,
     "metadata": {},
     "output_type": "execute_result"
    }
   ],
   "source": [
    "fert_per_kg(\n",
    "    fert_kg_per_km2=package.parameters['fert consumption [kg/km2]'],\n",
    "    land_ha=package.parameters['land [ha]'],\n",
    "    cereal_t=package.parameters['cereal production [t]']\n",
    ")"
   ]
  },
  {
   "cell_type": "markdown",
   "metadata": {},
   "source": [
    "### Loading packages for use one column at a time\n",
    "\n",
    "Presamples also allows accessing parameter data one observation at a time. This is useful to feed data from the presample arrays in Monte Carlo Simulations.\n",
    "\n",
    "This is done via the `PackagesDataLoader`. A `PackagesDataLoader` is instantiated with a list of presamples package paths. In our simple example, we just have one path:"
   ]
  },
  {
   "cell_type": "code",
   "execution_count": 18,
   "metadata": {},
   "outputs": [],
   "source": [
    "ag_loader = presamples.PackagesDataLoader([pp_path])"
   ]
  },
  {
   "cell_type": "markdown",
   "metadata": {},
   "source": [
    "One of the important things the `PackagesDataLoader` does is create an `Indexer` for each presamples package. This indexer simply returns an integer representing the column number of the presamples array from which data should be taken. By default, the `Indexer` returns indices at random. An `Indexer` can also be seeded for reproducibility (see [Creating presample packages with seeded indexers](https://presamples.readthedocs.io/en/latest/quickstart.html#seeded-indexers)), and can also return values sequentially (see [Creating presample packages with sequential indexers](https://presamples.readthedocs.io/en/latest/quickstart.html#sequential-indexers)).\n",
    "\n",
    "The `PackagesDataLoader` has an interface to access named parameters, one observation at a time:"
   ]
  },
  {
   "cell_type": "code",
   "execution_count": 19,
   "metadata": {},
   "outputs": [
    {
     "data": {
      "text/plain": [
       "14581100.0"
      ]
     },
     "execution_count": 19,
     "metadata": {},
     "output_type": "execute_result"
    }
   ],
   "source": [
    "ag_loader.parameters['land [ha]']"
   ]
  },
  {
   "cell_type": "markdown",
   "metadata": {},
   "source": [
    "It is also possible to return values for all parameters using the `consolidated_arrays` property:"
   ]
  },
  {
   "cell_type": "code",
   "execution_count": 21,
   "metadata": {},
   "outputs": [
    {
     "data": {
      "text/plain": [
       "array([5.33611000e+07, 1.15822293e+02, 1.45811000e+07])"
      ]
     },
     "execution_count": 21,
     "metadata": {},
     "output_type": "execute_result"
    }
   ],
   "source": [
    "ag_loader.parameters.consolidated_array"
   ]
  },
  {
   "cell_type": "markdown",
   "metadata": {},
   "source": [
    "The order of the values is identical to the order of names:"
   ]
  },
  {
   "cell_type": "code",
   "execution_count": 22,
   "metadata": {},
   "outputs": [
    {
     "data": {
      "text/plain": [
       "['cereal production [t]', 'fert consumption [kg/km2]', 'land [ha]']"
      ]
     },
     "execution_count": 22,
     "metadata": {},
     "output_type": "execute_result"
    }
   ],
   "source": [
    "ag_loader.parameters.names"
   ]
  },
  {
   "cell_type": "markdown",
   "metadata": {},
   "source": [
    "The array is considered “consolidated” because it uses values from all packages passed to the `PackagesDataLoader`. In this simple example, only one was passed, so not much was consolidated, but the interest of consolidating is explained in [Using presamples to override input values](https://presamples.readthedocs.io/en/latest/quickstart.html#override-parameter-values).\n",
    "\n",
    "To move to the next (random) observation:"
   ]
  },
  {
   "cell_type": "code",
   "execution_count": 23,
   "metadata": {},
   "outputs": [
    {
     "data": {
      "text/plain": [
       "array([5.33611000e+07, 1.15822293e+02, 1.45811000e+07])"
      ]
     },
     "execution_count": 23,
     "metadata": {},
     "output_type": "execute_result"
    }
   ],
   "source": [
    "ag_loader.update_package_indices()\n",
    "ag_loader.parameters.consolidated_array"
   ]
  },
  {
   "cell_type": "markdown",
   "metadata": {},
   "source": [
    "The index value of each package’s `Indexer` can be returned using the `consolidated_index`:"
   ]
  },
  {
   "cell_type": "code",
   "execution_count": 24,
   "metadata": {},
   "outputs": [
    {
     "name": "stdout",
     "output_type": "stream",
     "text": [
      "indices: [12, 12, 12] values: [5.33611000e+07 1.15822293e+02 1.45811000e+07]\n",
      "indices: [5, 5, 5] values: [5.60304000e+07 6.86041448e+01 1.65197000e+07]\n",
      "indices: [0, 0, 0] values: [4.91972000e+07 5.76301666e+01 1.78330000e+07]\n",
      "indices: [6, 6, 6] values: [4.9691900e+07 6.3964071e+01 1.5060300e+07]\n"
     ]
    }
   ],
   "source": [
    "for _ in range(4):\n",
    "    print(\n",
    "        \"indices:\",\n",
    "        ag_loader.parameters.consolidated_indices,\n",
    "        \"values:\",\n",
    "        ag_loader.parameters.consolidated_array\n",
    "    )\n",
    "    ag_loader.update_package_indices() # Move to the next (random) index"
   ]
  },
  {
   "cell_type": "markdown",
   "metadata": {},
   "source": [
    "The indices are all the same because the `PackagesDataLoader` was populated with a single presamples package.\n",
    "\n",
    "To use these in our model described in the simple_example section:"
   ]
  },
  {
   "cell_type": "code",
   "execution_count": 25,
   "metadata": {},
   "outputs": [
    {
     "name": "stdout",
     "output_type": "stream",
     "text": [
      "Run number: 0\n",
      "\tindices: [11, 11, 11]\n",
      "\tresult: 1.79e-03\n",
      "Run number: 1\n",
      "\tindices: [10, 10, 10]\n",
      "\tresult: 1.33e-03\n",
      "Run number: 2\n",
      "\tindices: [10, 10, 10]\n",
      "\tresult: 1.33e-03\n",
      "Run number: 3\n",
      "\tindices: [9, 9, 9]\n",
      "\tresult: 1.15e-03\n",
      "Run number: 4\n",
      "\tindices: [9, 9, 9]\n",
      "\tresult: 1.15e-03\n"
     ]
    }
   ],
   "source": [
    "for run_nb in range(5): # Run the model 5 times\n",
    "    print(\"Run number:\", run_nb)\n",
    "    \n",
    "    # Update the index, i.e. move to the next random index\n",
    "    ag_loader.update_package_indices()\n",
    "    # Calculate the model output using sampled parameter values\n",
    "    fertilizer_amount = fert_per_kg(\n",
    "        fert_kg_per_km2=ag_loader.parameters['fert consumption [kg/km2]'],\n",
    "        land_ha=ag_loader.parameters['fert consumption [kg/km2]'],\n",
    "        cereal_t=ag_loader.parameters['cereal production [t]']\n",
    "    )\n",
    "    # print the sampled column index and the model output for each run\n",
    "    print(\"\\tindices:\", ag_loader.parameters.consolidated_indices)\n",
    "    print(\"\\tresult:\",  '{:.2e}'.format(fertilizer_amount))"
   ]
  },
  {
   "cell_type": "markdown",
   "metadata": {},
   "source": [
    "### Storing a model’s output as a presample package\n",
    "\n",
    "The calculated model output (in the example, kg fertilizer per kg cereal) may be an input to another model. It would be possible to store the calculated output of our model as yet another presample package, and to use this directly in the other model.\n",
    "\n",
    "While this example is simple, it is rather obvious that this can be a great advantage for larger models that take take a lot of computing resources."
   ]
  },
  {
   "cell_type": "code",
   "execution_count": 26,
   "metadata": {},
   "outputs": [
    {
     "data": {
      "text/plain": [
       "array([[0.00179335, 0.00179335, 0.00078676, 0.00046006, 0.00179335,\n",
       "        0.00179335, 0.00067509, 0.00058567, 0.00179335, 0.00078676,\n",
       "        0.00068385, 0.00068385, 0.00058567, 0.00114748, 0.00251397,\n",
       "        0.00082335, 0.00084   , 0.00068385, 0.00082335, 0.00179335,\n",
       "        0.00046006, 0.00068385, 0.00084   , 0.00078676, 0.00058567,\n",
       "        0.00067509, 0.00084508, 0.00046006, 0.00082335, 0.00068385,\n",
       "        0.00067509, 0.00133493, 0.00084508, 0.00067509, 0.00082335,\n",
       "        0.00046006, 0.00179335, 0.00179335, 0.00046006, 0.00078676,\n",
       "        0.00058567, 0.00133493, 0.00084508, 0.00058567, 0.00251397,\n",
       "        0.00114748, 0.00067509, 0.00058567, 0.00179335, 0.00081327,\n",
       "        0.00046006, 0.00084508, 0.00084   , 0.00067509, 0.00114748,\n",
       "        0.00084   , 0.00251397, 0.00068385, 0.00081327, 0.00067509,\n",
       "        0.00084508, 0.00084508, 0.00179335, 0.00068385, 0.00068385,\n",
       "        0.00078676, 0.00058567, 0.00084   , 0.00046006, 0.00081327,\n",
       "        0.00082335, 0.00078676, 0.00067509, 0.00251397, 0.00078676,\n",
       "        0.00084   , 0.00046006, 0.00084508, 0.00084   , 0.00114748,\n",
       "        0.00084508, 0.00082335, 0.00082335, 0.00114748, 0.00084508,\n",
       "        0.00067509, 0.00081327, 0.00251397, 0.00133493, 0.00068385,\n",
       "        0.00251397, 0.00068385, 0.00081327, 0.00084   , 0.00082335,\n",
       "        0.00078676, 0.00058567, 0.00058567, 0.00082335, 0.00068385]])"
      ]
     },
     "execution_count": 26,
     "metadata": {},
     "output_type": "execute_result"
    }
   ],
   "source": [
    "iterations = 100 # Number of iterations to store.\n",
    "model_output = np.zeros(shape=(1, iterations))\n",
    "for i in range(iterations):\n",
    "    ag_loader.update_package_indices()\n",
    "    model_output[0, i] = fert_per_kg(\n",
    "        fert_kg_per_km2=ag_loader.parameters['fert consumption [kg/km2]'],\n",
    "        land_ha=ag_loader.parameters['fert consumption [kg/km2]'],\n",
    "        cereal_t=ag_loader.parameters['cereal production [t]']\n",
    "    )\n",
    "model_output"
   ]
  },
  {
   "cell_type": "code",
   "execution_count": 27,
   "metadata": {},
   "outputs": [],
   "source": [
    "ag_result_pp_id, ag_result_pp_fp = presamples.create_presamples_package(\n",
    "    parameter_data = [(model_output, ['fert_input_per_kg_cereal'], \"Agri model output baseline\")],\n",
    "    name=\"baseline_model_output\"\n",
    ")"
   ]
  },
  {
   "cell_type": "markdown",
   "metadata": {},
   "source": [
    "This presample package can then be accessed or used as described above."
   ]
  },
  {
   "cell_type": "markdown",
   "metadata": {},
   "source": [
    "### Creating presample packages with seeded indexers\n",
    "\n",
    "Indexers are by default random. To force the indices to be returned in the same order everytime a presamples package is used, it is possible to specify a `seed` when creating the presamples package. This will ensure repeatability across uses of the presample package.\n",
    "\n",
    "Reusing the original data, we simply pass a `seed` when using `create_presamples_package`:"
   ]
  },
  {
   "cell_type": "code",
   "execution_count": 28,
   "metadata": {},
   "outputs": [],
   "source": [
    "pp_id_seeded, pp_path_seeded = presamples.create_presamples_package(\n",
    "    parameter_data = [(ag_sample_arr, ag_names, \"Agri baseline data\")],\n",
    "    seed=42\n",
    ")"
   ]
  },
  {
   "cell_type": "markdown",
   "metadata": {},
   "source": [
    "We can test that this worked by creating two `PackagesDataLoader` objects and making sure they return samples in the same order:"
   ]
  },
  {
   "cell_type": "code",
   "execution_count": 30,
   "metadata": {},
   "outputs": [],
   "source": [
    "# Create a first loader\n",
    "ag_loader_seeded_1 = presamples.PackagesDataLoader([pp_path_seeded])\n",
    "\n",
    "# Create a second loader\n",
    "ag_loader_seeded_2 = presamples.PackagesDataLoader([pp_path_seeded])"
   ]
  },
  {
   "cell_type": "markdown",
   "metadata": {},
   "source": [
    "Both loaders are not the same object:"
   ]
  },
  {
   "cell_type": "code",
   "execution_count": 31,
   "metadata": {},
   "outputs": [
    {
     "data": {
      "text/plain": [
       "False"
      ]
     },
     "execution_count": 31,
     "metadata": {},
     "output_type": "execute_result"
    }
   ],
   "source": [
    "ag_loader_seeded_1 is ag_loader_seeded_2"
   ]
  },
  {
   "cell_type": "markdown",
   "metadata": {},
   "source": [
    "and they are not equal:"
   ]
  },
  {
   "cell_type": "code",
   "execution_count": 32,
   "metadata": {},
   "outputs": [
    {
     "data": {
      "text/plain": [
       "False"
      ]
     },
     "execution_count": 32,
     "metadata": {},
     "output_type": "execute_result"
    }
   ],
   "source": [
    "ag_loader_seeded_1 == ag_loader_seeded_2"
   ]
  },
  {
   "cell_type": "markdown",
   "metadata": {},
   "source": [
    "and yet:"
   ]
  },
  {
   "cell_type": "code",
   "execution_count": 33,
   "metadata": {},
   "outputs": [
    {
     "name": "stdout",
     "output_type": "stream",
     "text": [
      "indices: [10, 10, 10] values: [6.64057010e+07 9.41524221e+01 1.59246840e+07]\n",
      "indices: [8, 8, 8] values: [4.76672000e+07 6.22626679e+01 1.35367000e+07]\n",
      "indices: [4, 4, 4] values: [4.80053000e+07 4.69949459e+01 1.61451000e+07]\n",
      "indices: [6, 6, 6] values: [4.9691900e+07 6.3964071e+01 1.5060300e+07]\n"
     ]
    }
   ],
   "source": [
    "for _ in range(4):\n",
    "    ag_loader_seeded_1.update_package_indices()\n",
    "    print(\n",
    "        \"indices:\",\n",
    "        ag_loader_seeded_1.parameters.consolidated_indices,\n",
    "        \"values:\",\n",
    "        ag_loader_seeded_1.parameters.consolidated_array\n",
    "    )"
   ]
  },
  {
   "cell_type": "code",
   "execution_count": 34,
   "metadata": {},
   "outputs": [
    {
     "name": "stdout",
     "output_type": "stream",
     "text": [
      "indices: [10, 10, 10] values: [6.64057010e+07 9.41524221e+01 1.59246840e+07]\n",
      "indices: [8, 8, 8] values: [4.76672000e+07 6.22626679e+01 1.35367000e+07]\n",
      "indices: [4, 4, 4] values: [4.80053000e+07 4.69949459e+01 1.61451000e+07]\n",
      "indices: [6, 6, 6] values: [4.9691900e+07 6.3964071e+01 1.5060300e+07]\n"
     ]
    }
   ],
   "source": [
    "for _ in range(4):\n",
    "    ag_loader_seeded_2.update_package_indices()\n",
    "    print(\n",
    "        \"indices:\",\n",
    "        ag_loader_seeded_2.parameters.consolidated_indices,\n",
    "        \"values:\",\n",
    "        ag_loader_seeded_2.parameters.consolidated_array\n",
    "    )"
   ]
  },
  {
   "cell_type": "markdown",
   "metadata": {},
   "source": [
    "### Creating presample packages with sequential indexers\n",
    "\n",
    "It can often be useful to sample values sequentially. To do so, pass `seed=sequential` when creating the presamples package."
   ]
  },
  {
   "cell_type": "code",
   "execution_count": 36,
   "metadata": {},
   "outputs": [
    {
     "name": "stdout",
     "output_type": "stream",
     "text": [
      "indices: [0, 0, 0] values: [4.91972000e+07 5.76301666e+01 1.78330000e+07]\n",
      "indices: [1, 1, 1] values: [5.07782000e+07 5.89276106e+01 1.61617000e+07]\n",
      "indices: [2, 2, 2] values: [5.09624000e+07 5.46327748e+01 1.58468000e+07]\n",
      "indices: [3, 3, 3] values: [4.85773000e+07 6.18212787e+01 1.59461000e+07]\n"
     ]
    }
   ],
   "source": [
    "pp_id_seq, pp_path_seq = presamples.create_presamples_package(\n",
    "    parameter_data = [(ag_sample_arr, ag_names, \"Agri baseline data\")],\n",
    "    seed='sequential'\n",
    ")\n",
    "\n",
    "ag_loader_seq = presamples.PackagesDataLoader([pp_path_seq])\n",
    "\n",
    "for _ in range(4):\n",
    "    print(\n",
    "        \"indices:\",\n",
    "        ag_loader_seq.parameters.consolidated_indices,\n",
    "        \"values:\",\n",
    "        ag_loader_seq.parameters.consolidated_array\n",
    "    )\n",
    "    ag_loader_seq.update_package_indices()"
   ]
  },
  {
   "cell_type": "markdown",
   "metadata": {},
   "source": [
    "### Using presamples to override input values\n",
    "\n",
    "Multiple presamples packages can be passed to a single `DataPackageLoader`. When a named parameted is present in more than one presamples package, only the value in the last package to have the named parameter is used. This allows for easily updating input data.\n",
    "\n",
    "In our example, say we want to fix the fertilizer use parameter to an amount representing a specific scenario:"
   ]
  },
  {
   "cell_type": "code",
   "execution_count": 39,
   "metadata": {},
   "outputs": [],
   "source": [
    "new_fertilizer_amount = np.array([60]).reshape(1,1) # The array MUST have one row, as we only have one parameter\n",
    "\n",
    "fert_scenario_id, fert_scenario_path = presamples.create_presamples_package(\n",
    "    parameter_data=[(new_fertilizer_amount, ['fert consumption [kg/km2]'], 'ag scenario 1')],\n",
    "    name=\"Scenario 1 agri data - presample package\"\n",
    ")"
   ]
  },
  {
   "cell_type": "markdown",
   "metadata": {},
   "source": [
    "We can now create a loader where both the baseline and the scenario packages are passed:"
   ]
  },
  {
   "cell_type": "code",
   "execution_count": 41,
   "metadata": {},
   "outputs": [],
   "source": [
    "ag_loader_scenario = presamples.PackagesDataLoader([pp_path, fert_scenario_path])"
   ]
  },
  {
   "cell_type": "markdown",
   "metadata": {},
   "source": [
    "We can see that the original values for fertilizer use have been replaced by those in the new package."
   ]
  },
  {
   "cell_type": "code",
   "execution_count": 43,
   "metadata": {},
   "outputs": [
    {
     "name": "stdout",
     "output_type": "stream",
     "text": [
      "indices: [8, 0, 8] values: [4.76672e+07 6.00000e+01 1.35367e+07]\n",
      "indices: [1, 0, 1] values: [5.07782e+07 6.00000e+01 1.61617e+07]\n",
      "indices: [10, 0, 10] values: [6.6405701e+07 6.0000000e+01 1.5924684e+07]\n",
      "indices: [8, 0, 8] values: [4.76672e+07 6.00000e+01 1.35367e+07]\n"
     ]
    }
   ],
   "source": [
    "for _ in range(4):\n",
    "    print(\n",
    "        \"indices:\",\n",
    "        ag_loader_scenario.parameters.consolidated_indices,\n",
    "        \"values:\",\n",
    "        ag_loader_scenario.parameters.consolidated_array\n",
    "    )\n",
    "    ag_loader_scenario.update_package_indices()"
   ]
  },
  {
   "cell_type": "markdown",
   "metadata": {},
   "source": [
    "Notice that the index for the second parameter ('fert consumption [kg/km2]') is always 0: this is because the package\n",
    "for this named parameter only has one column.  \n",
    "\n",
    "You can pass as many packages as required, and each package can have any number of named parameters and observations\n",
    "(columns).\n",
    "\n",
    "**Important**  \n",
    "When passing multiple presamples package paths to a single `DataPackageLoader`, named parameters get their values and indices from the last presamples package that contains data on this named parameter."
   ]
  },
  {
   "cell_type": "markdown",
   "metadata": {},
   "source": [
    "### Storing a presample resource\n",
    "\n",
    "In order to facilitate their retrieval for reuse, references to presamples packages can be stored in a database\n",
    "`campaigns.db`. Interaction with this database is based on the [Peewee ORM](http://docs.peewee-orm.com/en/latest/).  \n",
    "\n",
    "The first table of this database is the `PresampleResource` table, used to store references to presamples packages.  \n",
    "\n",
    "To store a reference to a presample package in the database:"
   ]
  },
  {
   "cell_type": "code",
   "execution_count": 45,
   "metadata": {},
   "outputs": [],
   "source": [
    "pr_baseline = presamples.PresampleResource.create(\n",
    "    name=\"Baseline agri data\",\n",
    "    path=pp_path\n",
    ")"
   ]
  },
  {
   "cell_type": "markdown",
   "metadata": {},
   "source": [
    "The resource has a few useful properties, such as ``name`` and ``path``.\n",
    "\n",
    "One can then retrieve a presample resource based on the name:"
   ]
  },
  {
   "cell_type": "code",
   "execution_count": 46,
   "metadata": {},
   "outputs": [
    {
     "data": {
      "text/plain": [
       "True"
      ]
     },
     "execution_count": 46,
     "metadata": {},
     "output_type": "execute_result"
    }
   ],
   "source": [
    "pr_baseline_retrieved = presamples.PresampleResource.get(\n",
    "    presamples.PresampleResource.name==\"Baseline agri data\"\n",
    ")\n",
    "pr_baseline == pr_baseline_retrieved"
   ]
  },
  {
   "cell_type": "markdown",
   "metadata": {},
   "source": [
    "and then use the associated presample package:"
   ]
  },
  {
   "cell_type": "code",
   "execution_count": 47,
   "metadata": {},
   "outputs": [],
   "source": [
    "other_loader = presamples.PackagesDataLoader([pr_baseline.path])"
   ]
  },
  {
   "cell_type": "markdown",
   "metadata": {},
   "source": [
    "### Using ``Campaigns`` to manage sets of presample packages"
   ]
  },
  {
   "cell_type": "markdown",
   "metadata": {},
   "source": [
    "The ``Campaign`` database also has a table called ``Campaign``, used to store information about ordered collections\n",
    "of ``PresampleResources``.\n",
    "\n",
    "To create a new campaign:"
   ]
  },
  {
   "cell_type": "code",
   "execution_count": 48,
   "metadata": {},
   "outputs": [
    {
     "data": {
      "text/plain": [
       "1"
      ]
     },
     "execution_count": 48,
     "metadata": {},
     "output_type": "execute_result"
    }
   ],
   "source": [
    "ag_campaign_baseline = presamples.Campaign.create(name=\"Agricultural baseline campaign\")\n",
    "ag_campaign_baseline.save()"
   ]
  },
  {
   "cell_type": "markdown",
   "metadata": {},
   "source": [
    "The 1 indicates that one row was changed in the ``Campaign`` table.\n",
    "\n",
    "We can add our samples of baseline values using the ``PresampleResource`` that was created earlier:"
   ]
  },
  {
   "cell_type": "code",
   "execution_count": 49,
   "metadata": {},
   "outputs": [
    {
     "data": {
      "text/plain": [
       "<Campaign: Campaign Agricultural baseline campaign with no parent and 1 packages>"
      ]
     },
     "execution_count": 49,
     "metadata": {},
     "output_type": "execute_result"
    }
   ],
   "source": [
    "ag_campaign_baseline.add_presample_resource(pr_baseline)\n",
    "\n",
    "ag_campaign_baseline #Get some information on the campaign"
   ]
  },
  {
   "cell_type": "code",
   "execution_count": 50,
   "metadata": {},
   "outputs": [
    {
     "data": {
      "text/plain": [
       "['Baseline agri data']"
      ]
     },
     "execution_count": 50,
     "metadata": {},
     "output_type": "execute_result"
    }
   ],
   "source": [
    "[p.name for p in ag_campaign_baseline.packages] # List packages used in campaign"
   ]
  },
  {
   "cell_type": "markdown",
   "metadata": {},
   "source": [
    "A ``Campaign`` can be passed directly to a ``PackagesDataLoader``:"
   ]
  },
  {
   "cell_type": "code",
   "execution_count": 51,
   "metadata": {},
   "outputs": [
    {
     "data": {
      "text/plain": [
       "array([4.85773000e+07, 6.18212787e+01, 1.59461000e+07])"
      ]
     },
     "execution_count": 51,
     "metadata": {},
     "output_type": "execute_result"
    }
   ],
   "source": [
    "loader = presamples.PackagesDataLoader(ag_campaign_baseline)\n",
    "loader.parameters.consolidated_array"
   ]
  },
  {
   "cell_type": "markdown",
   "metadata": {},
   "source": [
    "More interestingly, a ``Campaign`` can point to multiple ``PresampleResources`` in the desired order. Let's add the\n",
    "scenario data we had above to a ``PresampleResource``:"
   ]
  },
  {
   "cell_type": "code",
   "execution_count": 52,
   "metadata": {},
   "outputs": [],
   "source": [
    "pr_scenario = presamples.PresampleResource.create(\n",
    "    path=fert_scenario_path,\n",
    "    name=\"Scenario 1 agri data\"\n",
    ")"
   ]
  },
  {
   "cell_type": "markdown",
   "metadata": {},
   "source": [
    "Next we create a *child* Campaign based on the baseline campaign we created above. This child campaign\n",
    "will automatically point to all the resources of the parent Campaign. Note that you can have an arbitrary\n",
    "number of descendents."
   ]
  },
  {
   "cell_type": "code",
   "execution_count": 53,
   "metadata": {},
   "outputs": [
    {
     "data": {
      "text/plain": [
       "1"
      ]
     },
     "execution_count": 53,
     "metadata": {},
     "output_type": "execute_result"
    }
   ],
   "source": [
    "ag_campaign_scenario1 = ag_campaign_baseline.add_child(\"Agricultural scenario 1 campaign\") # Create a child campaign\n",
    "ag_campaign_scenario1.save()"
   ]
  },
  {
   "cell_type": "code",
   "execution_count": 54,
   "metadata": {},
   "outputs": [],
   "source": [
    "ag_campaign_scenario1.add_presample_resource(pr_scenario) # Add the scenario presample resource"
   ]
  },
  {
   "cell_type": "markdown",
   "metadata": {},
   "source": [
    "The ``ag_scenario`` ``Campaign`` has the baseline data as parent (it will use all its presample packages) and another\n",
    "package."
   ]
  },
  {
   "cell_type": "code",
   "execution_count": 55,
   "metadata": {},
   "outputs": [
    {
     "data": {
      "text/plain": [
       "<Campaign: Campaign Agricultural scenario 1 campaign with parent Agricultural baseline campaign and 2 packages>"
      ]
     },
     "execution_count": 55,
     "metadata": {},
     "output_type": "execute_result"
    }
   ],
   "source": [
    "ag_campaign_scenario1"
   ]
  },
  {
   "cell_type": "code",
   "execution_count": 56,
   "metadata": {},
   "outputs": [
    {
     "data": {
      "text/plain": [
       "['Agricultural baseline campaign']"
      ]
     },
     "execution_count": 56,
     "metadata": {},
     "output_type": "execute_result"
    }
   ],
   "source": [
    "[p.name for p in ag_campaign_scenario1.ancestors]"
   ]
  },
  {
   "cell_type": "code",
   "execution_count": 57,
   "metadata": {},
   "outputs": [
    {
     "data": {
      "text/plain": [
       "['Baseline agri data', 'Scenario 1 agri data']"
      ]
     },
     "execution_count": 57,
     "metadata": {},
     "output_type": "execute_result"
    }
   ],
   "source": [
    "[p.name for p in ag_campaign_scenario1.packages]"
   ]
  },
  {
   "cell_type": "markdown",
   "metadata": {},
   "source": [
    "Using the campaign in a ``PackagesDataLoader`` will call the presample packages in the expected order, i.e. from the\n",
    "package with baseline data (added first) to the scenario data (added after):\n"
   ]
  },
  {
   "cell_type": "code",
   "execution_count": 59,
   "metadata": {},
   "outputs": [
    {
     "name": "stdout",
     "output_type": "stream",
     "text": [
      "Indices: [10, 0, 10] Values:  [6.6405701e+07 6.0000000e+01 1.5924684e+07]\n",
      "Indices: [12, 0, 12] Values:  [5.33611e+07 6.00000e+01 1.45811e+07]\n",
      "Indices: [11, 0, 11] Values:  [5.1535801e+07 6.0000000e+01 1.4023084e+07]\n",
      "Indices: [4, 0, 4] Values:  [4.80053e+07 6.00000e+01 1.61451e+07]\n"
     ]
    }
   ],
   "source": [
    "loader_scenario = presamples.PackagesDataLoader(ag_campaign_scenario1) # Load\n",
    "for _ in range(4): # Check values for 4 iterations\n",
    "    loader_scenario.update_package_indices()\n",
    "    print(\n",
    "        \"Indices:\",\n",
    "        loader_scenario.parameters.consolidated_indices,\n",
    "        \"Values: \",\n",
    "        loader_scenario.parameters.consolidated_array\n",
    "    )"
   ]
  },
  {
   "cell_type": "markdown",
   "metadata": {},
   "source": [
    "The scenario data overwrote the fertiliser use data on each iteration."
   ]
  }
 ],
 "metadata": {
  "kernelspec": {
   "display_name": "Python 3",
   "language": "python",
   "name": "python3"
  },
  "language_info": {
   "codemirror_mode": {
    "name": "ipython",
    "version": 3
   },
   "file_extension": ".py",
   "mimetype": "text/x-python",
   "name": "python",
   "nbconvert_exporter": "python",
   "pygments_lexer": "ipython3",
   "version": "3.7.3"
  },
  "toc": {
   "base_numbering": 1,
   "nav_menu": {},
   "number_sections": false,
   "sideBar": true,
   "skip_h1_title": false,
   "title_cell": "Table of Contents",
   "title_sidebar": "Contents",
   "toc_cell": false,
   "toc_position": {},
   "toc_section_display": true,
   "toc_window_display": true
  },
  "varInspector": {
   "cols": {
    "lenName": 16,
    "lenType": 16,
    "lenVar": 40
   },
   "kernels_config": {
    "python": {
     "delete_cmd_postfix": "",
     "delete_cmd_prefix": "del ",
     "library": "var_list.py",
     "varRefreshCmd": "print(var_dic_list())"
    },
    "r": {
     "delete_cmd_postfix": ") ",
     "delete_cmd_prefix": "rm(",
     "library": "var_list.r",
     "varRefreshCmd": "cat(var_dic_list()) "
    }
   },
   "types_to_exclude": [
    "module",
    "function",
    "builtin_function_or_method",
    "instance",
    "_Feature"
   ],
   "window_display": true
  }
 },
 "nbformat": 4,
 "nbformat_minor": 2
}
