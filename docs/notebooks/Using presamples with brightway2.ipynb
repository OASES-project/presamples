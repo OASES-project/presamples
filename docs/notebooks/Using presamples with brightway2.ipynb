{
 "cells": [
  {
   "cell_type": "markdown",
   "metadata": {},
   "source": [
    "# Using presamples with Brightway2  \n",
    "\n",
    "This Notebook is meant to accompany the official documentation on [readthedocs](https://presamples.readthedocs.io/en/latest/use_with_bw2.html). \n",
    "\n",
    "The official documentation provides more context, but does not show all the code (e.g. it doesn't show the creation of LCI databases, the formatting of matrices for display, etc.).  \n",
    "This Notebook contains all this extra code, but is much skimpier on context. You should probably read the official docs first, if you have not done so yet.   "
   ]
  },
  {
   "cell_type": "markdown",
   "metadata": {
    "toc": true
   },
   "source": [
    "<h1>Table of Contents<span class=\"tocSkip\"></span></h1>\n",
    "<div class=\"toc\"><ul class=\"toc-item\"><li><span><a href=\"#Importing-required-modules\" data-toc-modified-id=\"Importing-required-modules-1\">Importing required modules</a></span></li><li><span><a href=\"#Formating-functions\" data-toc-modified-id=\"Formating-functions-2\">Formating functions</a></span></li><li><span><a href=\"#Biosphere-database\" data-toc-modified-id=\"Biosphere-database-3\">Biosphere database</a></span></li><li><span><a href=\"#LCIA-methods\" data-toc-modified-id=\"LCIA-methods-4\">LCIA methods</a></span></li><li><span><a href=\"#Example-1:----Static-scenario-analysis:-changing-supplier\" data-toc-modified-id=\"Example-1:----Static-scenario-analysis:-changing-supplier-5\">Example 1:  - Static scenario analysis: changing supplier</a></span><ul class=\"toc-item\"><li><span><a href=\"#Writing-initial-database\" data-toc-modified-id=\"Writing-initial-database-5.1\">Writing initial database</a></span></li><li><span><a href=\"#Initial-system\" data-toc-modified-id=\"Initial-system-5.2\">Initial system</a></span></li><li><span><a href=\"#Scenario\" data-toc-modified-id=\"Scenario-5.3\">Scenario</a></span></li><li><span><a href=\"#matrix_data\" data-toc-modified-id=\"matrix_data-5.4\">matrix_data</a></span></li><li><span><a href=\"#Creating-presamples-package\" data-toc-modified-id=\"Creating-presamples-package-5.5\">Creating presamples package</a></span></li><li><span><a href=\"#Using-presamples-in-an-LCA\" data-toc-modified-id=\"Using-presamples-in-an-LCA-5.6\">Using presamples in an LCA</a></span><ul class=\"toc-item\"><li><span><a href=\"#Without-presamples\" data-toc-modified-id=\"Without-presamples-5.6.1\">Without presamples</a></span></li><li><span><a href=\"#With-presamples\" data-toc-modified-id=\"With-presamples-5.6.2\">With presamples</a></span></li><li><span><a href=\"#Presamples-are-not-persistent\" data-toc-modified-id=\"Presamples-are-not-persistent-5.6.3\">Presamples are not persistent</a></span></li></ul></li></ul></li><li><span><a href=\"#Example-2---Using-presamples-for-time-series\" data-toc-modified-id=\"Example-2---Using-presamples-for-time-series-6\">Example 2 - Using presamples for time series</a></span></li><li><span><a href=\"#Example-3\" data-toc-modified-id=\"Example-3-7\">Example 3</a></span></li><li><span><a href=\"#Example-4---Balancing-sampled-exchange-values\" data-toc-modified-id=\"Example-4---Balancing-sampled-exchange-values-8\">Example 4 - Balancing sampled exchange values</a></span></li><li><span><a href=\"#LCA-matrices-and-the-case-for-using-presamples\" data-toc-modified-id=\"LCA-matrices-and-the-case-for-using-presamples-9\">LCA matrices and the case for using presamples</a></span></li><li><span><a href=\"#Defining-the-input-matrix_data\" data-toc-modified-id=\"Defining-the-input-matrix_data-10\">Defining the input matrix_data</a></span><ul class=\"toc-item\"><li><span><a href=\"#Formating-functions-(Notebook-version-only)\" data-toc-modified-id=\"Formating-functions-(Notebook-version-only)-10.1\">Formating functions (Notebook version only)</a></span></li></ul></li><li><span><a href=\"#Example-1---Static-scenario-analysis:-changing-supplier\" data-toc-modified-id=\"Example-1---Static-scenario-analysis:-changing-supplier-11\">Example 1 - Static scenario analysis: changing supplier</a></span></li><li><span><a href=\"#Simple-database-used-in-documentation\" data-toc-modified-id=\"Simple-database-used-in-documentation-12\">Simple database used in documentation</a></span></li><li><span><a href=\"#Run-through\" data-toc-modified-id=\"Run-through-13\">Run through</a></span></li><li><span><a href=\"#Passing-matrix-data-to-presample-creation\" data-toc-modified-id=\"Passing-matrix-data-to-presample-creation-14\">Passing matrix data to presample creation</a></span></li><li><span><a href=\"#Using-presamples-in-LCA\" data-toc-modified-id=\"Using-presamples-in-LCA-15\">Using presamples in LCA</a></span></li><li><span><a href=\"#Using-presamples-in-MonteCarloLCA\" data-toc-modified-id=\"Using-presamples-in-MonteCarloLCA-16\">Using presamples in MonteCarloLCA</a></span></li><li><span><a href=\"#Fixed-sum-helper-model\" data-toc-modified-id=\"Fixed-sum-helper-model-17\">Fixed sum helper model</a></span></li><li><span><a href=\"#Kronecker-delta-helper-model\" data-toc-modified-id=\"Kronecker-delta-helper-model-18\">Kronecker delta helper model</a></span></li><li><span><a href=\"#Parameterized-brightway-models\" data-toc-modified-id=\"Parameterized-brightway-models-19\">Parameterized brightway models</a></span></li></ul></div>"
   ]
  },
  {
   "cell_type": "markdown",
   "metadata": {},
   "source": [
    "## Importing required modules"
   ]
  },
  {
   "cell_type": "code",
   "execution_count": 30,
   "metadata": {},
   "outputs": [],
   "source": [
    "# Principal modules\n",
    "import presamples as ps\n",
    "import brightway2 as bw\n",
    "bw.projects.set_current(\"presamples doc\")"
   ]
  },
  {
   "cell_type": "code",
   "execution_count": 2,
   "metadata": {},
   "outputs": [],
   "source": [
    "# Other modules\n",
    "import numpy as np\n",
    "import pandas as pd\n",
    "import seaborn as sns\n",
    "import matplotlib.pyplot as plt\n",
    "%matplotlib inline"
   ]
  },
  {
   "cell_type": "code",
   "execution_count": 3,
   "metadata": {},
   "outputs": [],
   "source": [
    "# The matrices used in the example are not sparse, so we ignore the SparseEfficiencyWarning\n",
    "import warnings\n",
    "from scipy.sparse import SparseEfficiencyWarning\n",
    "warnings.filterwarnings(\"ignore\", category=SparseEfficiencyWarning) "
   ]
  },
  {
   "cell_type": "markdown",
   "metadata": {},
   "source": [
    "## Formating functions\n",
    "The following functions were written to format some of the objects that are encountered in LCA. \n",
    "\n",
    "They are of limited interest and can be skipped. "
   ]
  },
  {
   "cell_type": "code",
   "execution_count": 4,
   "metadata": {},
   "outputs": [],
   "source": [
    "# Format matrices to DataFrame\n",
    "def format_matrices(database=None, demand=None, lca=None, simple=True):\n",
    "    if lca is None:\n",
    "        if demand is None:\n",
    "            act = bw.Database(database).random()\n",
    "            demand={act:act.get('production amount', 1)}\n",
    "        lca = bw.LCA(demand)\n",
    "    lca.lci()\n",
    "    rev_activity_dict, rev_product_dict, rev_bio_dict = lca.reverse_dict()\n",
    "    def get_name_with_units(act_key, simple):\n",
    "        act = bw.get_activity(act_key)\n",
    "        if simple: \n",
    "            return \"\\n{}\\n{}\\n\".format(act.key, act['unit'])\n",
    "        else:\n",
    "            return \"\\n{} ({})\\n{}\\n\".format(act['name'], act['unit'], act.key)\n",
    "    \n",
    "    col_names = [get_name_with_units(rev_activity_dict[i], simple) for i in np.arange(lca.inventory.shape[1])]\n",
    "    techno_row_names = [get_name_with_units(rev_product_dict[i], simple) for i in np.arange(lca.technosphere_matrix.shape[0])]\n",
    "    bio_row_names = [get_name_with_units(rev_bio_dict[i], simple) for i in np.arange(lca.biosphere_matrix.shape[0])]\n",
    "    lca.demand_array = np.eye(lca.technosphere_matrix.shape[0])\n",
    "    A_formatted = pd.DataFrame(index=techno_row_names, columns=col_names, data=lca.technosphere_matrix.todense())\n",
    "    B_formatted = pd.DataFrame(index=bio_row_names, columns=col_names, data=lca.biosphere_matrix.todense())\n",
    "    S = lca.solve_linear_system()\n",
    "    G = lca.biosphere_matrix * S\n",
    "    invA_formatted = pd.DataFrame(index=col_names, columns=techno_row_names, data=S)\n",
    "    G_formatted = pd.DataFrame(index=bio_row_names, columns=col_names, data=G)\n",
    "    return A_formatted, B_formatted, invA_formatted, G_formatted\n",
    "\n",
    "# Format matrices to figure\n",
    "def matrix_to_plot(matrix_as_df, return_fig=True, title=None, save_path=None, title_size=14, scaling_ratio=10):\n",
    "    w = 2 + matrix_as_df.shape[1]/scaling_ratio\n",
    "    h = 2 + matrix_as_df.shape[0]/scaling_ratio\n",
    "    plt.figure(figsize=(w,h))\n",
    "    matrix_plot = sns.heatmap(\n",
    "        matrix_as_df, annot=True, cbar=False, cmap=(['white']), \n",
    "        mask=(matrix_as_df==0).values, linewidths=1, linecolor='grey',\n",
    "        square=True\n",
    "    )\n",
    "    fig = matrix_plot.get_figure()\n",
    "    if title:\n",
    "        plt.title(title, fontsize=title_size)\n",
    "    if save_path:\n",
    "        fig.savefig(save_path, bbox_inches=\"tight\", ext=\"jpg\")\n",
    "    if return_fig:\n",
    "        return fig"
   ]
  },
  {
   "cell_type": "markdown",
   "metadata": {},
   "source": [
    "## Biosphere database"
   ]
  },
  {
   "cell_type": "code",
   "execution_count": null,
   "metadata": {},
   "outputs": [],
   "source": [
    "bio = bw.Database(\"bio\")\n",
    "bio.register()\n",
    "bio.write({\n",
    "    (\"bio\", \"emission\"): {\n",
    "        'categories': ['water'],\n",
    "        'name': 'Some emission',\n",
    "        'type': 'emission',\n",
    "        'unit': 'kg'\n",
    "    },\n",
    "    (\"bio\", \"water in\"): {\n",
    "        'categories': ['natural resource'],\n",
    "        'exchanges': [],\n",
    "        'name': 'Water in',\n",
    "        'type': 'natural resource',\n",
    "        'unit': 'm3'\n",
    "    },\n",
    "    (\"bio\", \"water out\"): {\n",
    "        'categories': ['water'],\n",
    "        'exchanges': [],\n",
    "        'name': 'Water out',\n",
    "        'type': 'emission',\n",
    "        'unit': 'm3'\n",
    "    },\n",
    "    (\"bio\", \"land from\"): {\n",
    "        'categories': ('natural resource', 'land'),\n",
    "        'exchanges': [],\n",
    "        'name': 'Transformation, from x',\n",
    "        'type': 'natural resource',\n",
    "        'unit': 'm2'\n",
    "    },\n",
    "    (\"bio\", \"land to\"): {\n",
    "        'categories': ('natural resource', 'land'),\n",
    "        'exchanges': [],\n",
    "        'name': 'Transformation, to y',\n",
    "        'type': 'natural resource',\n",
    "        'unit': 'm2'\n",
    "    },\n",
    "})"
   ]
  },
  {
   "cell_type": "markdown",
   "metadata": {},
   "source": [
    "## LCIA methods"
   ]
  },
  {
   "cell_type": "code",
   "execution_count": null,
   "metadata": {},
   "outputs": [],
   "source": [
    "# For pollutants\n",
    "m_name = (\"mock method\", \"pollutant emission\")\n",
    "bw.Method(m_name).register()\n",
    "m_as_method = bw.Method(m_name)\n",
    "m_as_method.metadata['unit'] = \"kg_eq emission\"\n",
    "data_as_list = [(('bio', 'emission'), 1)]\n",
    "m_as_method.write(data_as_list)\n",
    "\n",
    "# For water use\n",
    "m_name = (\"mock method\", \"water use\")\n",
    "bw.Method(m_name).register()\n",
    "m_as_method = bw.Method(m_name)\n",
    "m_as_method.metadata['unit'] = \"m3 water\"\n",
    "data_as_list = [\n",
    "    (('bio', 'water in'), 1), \n",
    "    (('bio', 'water out'), -1)\n",
    "]\n",
    "m_as_method.write(data_as_list)\n",
    "\n",
    "# For land transformation\n",
    "m_name = (\"mock method\", \"land transformation\")\n",
    "bw.Method(m_name).register()\n",
    "m_as_method = bw.Method(m_name)\n",
    "m_as_method.metadata['unit'] = \"m2 land\"\n",
    "data_as_list = [\n",
    "    (('bio', 'land from'), 1), \n",
    "    (('bio', 'land to'), -0.5)\n",
    "]\n",
    "m_as_method.write(data_as_list)"
   ]
  },
  {
   "cell_type": "markdown",
   "metadata": {},
   "source": [
    "## Example 1:  - Static scenario analysis: changing supplier\n",
    "\n",
    "Accompanies the [corresponding section of the ReadTheDocs](https://presamples.readthedocs.io/en/latest/use_with_bw2.html#bw2_eg1)"
   ]
  },
  {
   "cell_type": "markdown",
   "metadata": {},
   "source": [
    "### Writing initial database"
   ]
  },
  {
   "cell_type": "code",
   "execution_count": null,
   "metadata": {},
   "outputs": [],
   "source": [
    "# Writing database\n",
    "my_db = bw.Database('db1')\n",
    "my_db.register()\n",
    "my_db.write({\n",
    "    ('db1', 'a1'): {\n",
    "        'type': 'process',\n",
    "        'name': 'Production A1',\n",
    "        'unit': 'kg',\n",
    "        'location': 'GLO',\n",
    "        'reference product': 'A',\n",
    "        'production amount': 1,\n",
    "        'activity type': 'ordinary transforming activity',\n",
    "        'comment': 'represents cradle-to-gate LCI',\n",
    "        'exchanges': [\n",
    "            {\n",
    "                'name': 'A',\n",
    "                'unit': 'kg',\n",
    "                'amount': 1.0,\n",
    "                'input': ('db1', 'a1'),\n",
    "                'type': 'production',\n",
    "            },\n",
    "            {\n",
    "                'name': 'Some emission',\n",
    "                'unit': 'kg',\n",
    "                'amount': 2,\n",
    "                'input': ('bio', 'emission'),\n",
    "                'type': 'biosphere',\n",
    "            },\n",
    "        ],\n",
    "    },\n",
    "    ('db1', 'a2'): {\n",
    "        'type': 'process',\n",
    "        'name': 'Production A2',\n",
    "        'unit': 'kg',\n",
    "        'location': 'GLO',\n",
    "        'reference product': 'A',\n",
    "        'production amount': 1,\n",
    "        'activity type': 'ordinary transforming activity',\n",
    "        'comment': 'represents cradle-to-gate LCI',\n",
    "        'exchanges': [\n",
    "            {\n",
    "                'name': 'A',\n",
    "                'unit': 'kg',\n",
    "                'amount': 1.0,\n",
    "                'input': ('db1', 'a2'),\n",
    "                'type': 'production',\n",
    "                'uncertainty type': 0,\n",
    "            },\n",
    "            {\n",
    "                'name': 'Some emission',\n",
    "                'unit': 'kg',\n",
    "                'amount': 1,\n",
    "                'input': ('bio', 'emission'),\n",
    "                'type': 'biosphere',\n",
    "            },\n",
    "\n",
    "        ],\n",
    "    },\n",
    "    ('db1', \"b\"): {\n",
    "        'type': 'process',\n",
    "        'name': 'Producer b',\n",
    "        'unit': 'kg',\n",
    "        'location': 'GLO',\n",
    "        'reference product': 'b',\n",
    "        'production amount': 1,\n",
    "        'activity type': 'ordinary transforming activity',\n",
    "        'exchanges': [\n",
    "            {\n",
    "                'name': 'b',\n",
    "                'unit': 'kg',\n",
    "                'amount': 1.0,\n",
    "                'input': ('db1', 'b'),\n",
    "                'type': 'production',\n",
    "                'uncertainty type': 0,\n",
    "            },\n",
    "            {\n",
    "                'name': 'A',\n",
    "                'unit': 'kg',\n",
    "                'amount': 0.6,\n",
    "                'input': ('db1', 'a1'),\n",
    "                'type': 'technosphere',\n",
    "            },\n",
    "            {\n",
    "                'name': 'A',\n",
    "                'unit': 'kg',\n",
    "                'amount': 0.4,\n",
    "                'input': ('db1', 'a2'),\n",
    "                'type': 'technosphere',\n",
    "            },\n",
    "        ],\n",
    "    },\n",
    "})"
   ]
  },
  {
   "cell_type": "markdown",
   "metadata": {},
   "source": [
    "### Initial system"
   ]
  },
  {
   "cell_type": "markdown",
   "metadata": {},
   "source": [
    "**Initial product system**: \n",
    "![bw2_eg1_ps_initial](../source/images/bw2_eg1a.jpg)"
   ]
  },
  {
   "cell_type": "markdown",
   "metadata": {},
   "source": [
    "**Initial A matrix**:"
   ]
  },
  {
   "cell_type": "code",
   "execution_count": null,
   "metadata": {},
   "outputs": [],
   "source": [
    "A, _, _, _ = format_matrices(database='db1', simple=True)\n",
    "matrix_to_plot(A, return_fig=True, title=\"Technosphere matrix \\n$\\mathbf{A}$\", save_path=r\"../source/images/bw2_eg1_A_orig.jpg\");"
   ]
  },
  {
   "cell_type": "markdown",
   "metadata": {},
   "source": [
    "### Scenario"
   ]
  },
  {
   "cell_type": "markdown",
   "metadata": {},
   "source": [
    "![bw2_eg1_ps_initial](../source/images/bw2_eg1b.jpg)"
   ]
  },
  {
   "cell_type": "markdown",
   "metadata": {},
   "source": [
    "### matrix_data"
   ]
  },
  {
   "cell_type": "code",
   "execution_count": 48,
   "metadata": {},
   "outputs": [],
   "source": [
    "scenario_array = np.array(\n",
    "    [\n",
    "        1,    # New value for exchange between ('db1', 'a2') and ('db1', 'b')\n",
    "        0     # New value for exchange between ('db1', 'a1') and ('db1', 'b')\n",
    "    ]).reshape(-1, 1)"
   ]
  },
  {
   "cell_type": "code",
   "execution_count": 49,
   "metadata": {},
   "outputs": [],
   "source": [
    "scenario_indices = [\n",
    "    (('db1', 'a2'), ('db1', 'b'), 'technosphere'),\n",
    "    (('db1', 'a1'), ('db1', 'b'), 'technosphere')\n",
    "]"
   ]
  },
  {
   "cell_type": "code",
   "execution_count": 50,
   "metadata": {},
   "outputs": [],
   "source": [
    "scenario_matrix_data = [(scenario_array, scenario_indices, 'technosphere')]"
   ]
  },
  {
   "cell_type": "markdown",
   "metadata": {},
   "source": [
    "### Creating presamples package"
   ]
  },
  {
   "cell_type": "code",
   "execution_count": 51,
   "metadata": {},
   "outputs": [],
   "source": [
    "scen_pp_id, scen_pp_path = ps.create_presamples_package(\n",
    "    matrix_data = scenario_matrix_data,\n",
    "    )"
   ]
  },
  {
   "cell_type": "code",
   "execution_count": 52,
   "metadata": {},
   "outputs": [
    {
     "data": {
      "text/plain": [
       "WindowsPath('C:/Users/Pascal Lesage/AppData/Local/pylca/Brightway3/presamples-doc.87bb6f1bead9da928ddd02994ff7f192/presamples/954e60062a534c38b22f82a6f30fdba2')"
      ]
     },
     "execution_count": 52,
     "metadata": {},
     "output_type": "execute_result"
    }
   ],
   "source": [
    "scen_pp_path"
   ]
  },
  {
   "cell_type": "markdown",
   "metadata": {},
   "source": [
    "### Using presamples in an LCA"
   ]
  },
  {
   "cell_type": "markdown",
   "metadata": {},
   "source": [
    "#### Without presamples"
   ]
  },
  {
   "cell_type": "code",
   "execution_count": 56,
   "metadata": {},
   "outputs": [
    {
     "data": {
      "image/png": "[encoded data removed]",
      "text/plain": [
       "<Figure size 165.6x165.6 with 1 Axes>"
      ]
     },
     "metadata": {
      "needs_background": "light"
     },
     "output_type": "display_data"
    }
   ],
   "source": [
    "# LCA without presamples\n",
    "lca_wo = bw.LCA(demand={('db1', 'b'): 1})\n",
    "lca_wo.load_lci_data()\n",
    "A_wo, _, _, _ = format_matrices(lca=lca_wo)\n",
    "matrix_to_plot(A_wo, title=\"Technosphere matrix \\n$\\mathbf{A}$\", save_path=r\"../source/images/bw2_eg1_A_without_ps.jpg\");"
   ]
  },
  {
   "cell_type": "markdown",
   "metadata": {},
   "source": [
    "#### With presamples"
   ]
  },
  {
   "cell_type": "code",
   "execution_count": 57,
   "metadata": {},
   "outputs": [
    {
     "data": {
      "image/png": "[encoded data removed]",
      "text/plain": [
       "<Figure size 165.6x165.6 with 1 Axes>"
      ]
     },
     "metadata": {
      "needs_background": "light"
     },
     "output_type": "display_data"
    }
   ],
   "source": [
    "# LCA with presamples\n",
    "lca_w = bw.LCA(demand={('db1', 'b'): 1}, presamples=[scen_pp_path])\n",
    "lca_w.load_lci_data()\n",
    "A_w, _, _, _ = format_matrices(lca=lca_w)\n",
    "matrix_to_plot(A_w, title=\"Technosphere matrix \\n$\\mathbf{A}$\", save_path=r\"../source/images/bw2_eg1_A_with_ps.jpg\");"
   ]
  },
  {
   "cell_type": "markdown",
   "metadata": {},
   "source": [
    "#### Presamples are not persistent"
   ]
  },
  {
   "cell_type": "code",
   "execution_count": null,
   "metadata": {},
   "outputs": [],
   "source": [
    "# LCA without presamples\n",
    "lca_wo = bw.LCA(demand={('db1', 'b'): 1})\n",
    "lca_wo.load_lci_data()\n",
    "A_wo, _, _, _ = format_matrices(lca=lca_wo)\n",
    "matrix_to_plot(A_wo);"
   ]
  },
  {
   "cell_type": "markdown",
   "metadata": {},
   "source": [
    "## Example 2 - Using presamples for time series"
   ]
  },
  {
   "cell_type": "markdown",
   "metadata": {},
   "source": [
    "**Context**"
   ]
  },
  {
   "cell_type": "markdown",
   "metadata": {},
   "source": [
    "Supply of a varies over time:\n",
    "\n",
    "<img src=\"../source/images/bw2_eg2_data.jpg\" width=\"300\">"
   ]
  },
  {
   "cell_type": "markdown",
   "metadata": {},
   "source": [
    "**matrix_data**"
   ]
  },
  {
   "cell_type": "code",
   "execution_count": 5,
   "metadata": {},
   "outputs": [
    {
     "data": {
      "text/plain": [
       "(2, 6)"
      ]
     },
     "execution_count": 5,
     "metadata": {},
     "output_type": "execute_result"
    }
   ],
   "source": [
    "time_array = np.array(\n",
    "    [\n",
    "        [0.9, 0.8, 0.6, 0.3, 0.6, 0.5],#, 0.9, 1, 0.9, 1, 0.8, 0.6, 0.4, 0.2],\n",
    "        [0.1, 0.2, 0.4, 0.7, 0.4, 0.5]#, 0.1, 0, 0.1, 0, 0.2, 0.4, 0.6, 0.8]\n",
    "    ]\n",
    ")\n",
    "time_array.shape"
   ]
  },
  {
   "cell_type": "code",
   "execution_count": 6,
   "metadata": {},
   "outputs": [],
   "source": [
    "time_indices = [\n",
    "    (('db1', 'a2'), ('db1', 'b'), 'technosphere'),\n",
    "    (('db1', 'a1'), ('db1', 'b'), 'technosphere')\n",
    "]"
   ]
  },
  {
   "cell_type": "code",
   "execution_count": 7,
   "metadata": {},
   "outputs": [],
   "source": [
    "time_matrix_data = [(time_array, time_indices, 'technosphere')]"
   ]
  },
  {
   "cell_type": "markdown",
   "metadata": {},
   "source": [
    "**create presamples package**"
   ]
  },
  {
   "cell_type": "code",
   "execution_count": 8,
   "metadata": {},
   "outputs": [],
   "source": [
    "time_pp_id, time_pp_path = ps.create_presamples_package(\n",
    "    matrix_data = time_matrix_data,\n",
    "    seed='sequential'\n",
    "    )"
   ]
  },
  {
   "cell_type": "markdown",
   "metadata": {},
   "source": [
    "**LCA**"
   ]
  },
  {
   "cell_type": "code",
   "execution_count": 9,
   "metadata": {},
   "outputs": [],
   "source": [
    "lca = bw.LCA({('db1', 'b'):1}, presamples=[time_pp_path], method=(\"mock method\", \"pollutant emission\"))"
   ]
  },
  {
   "cell_type": "code",
   "execution_count": 85,
   "metadata": {},
   "outputs": [
    {
     "data": {
      "image/png": "[encoded data removed]",
      "text/plain": [
       "<Figure size 165.6x165.6 with 1 Axes>"
      ]
     },
     "metadata": {
      "needs_background": "light"
     },
     "output_type": "display_data"
    }
   ],
   "source": [
    "lca.lci()\n",
    "A, _, _, _ = format_matrices(lca=lca)\n",
    "matrix_to_plot(A, title=\"Technosphere matrix \\n$\\mathbf{A}$\", save_path=r\"../source/images/bw2_eg2_A0.jpg\");"
   ]
  },
  {
   "cell_type": "code",
   "execution_count": 87,
   "metadata": {},
   "outputs": [
    {
     "data": {
      "image/png": "[encoded data removed]",
      "text/plain": [
       "<Figure size 165.6x165.6 with 1 Axes>"
      ]
     },
     "metadata": {
      "needs_background": "light"
     },
     "output_type": "display_data"
    }
   ],
   "source": [
    "lca.presamples.update_matrices()\n",
    "A, _, _, _ = format_matrices(lca=lca)\n",
    "matrix_to_plot(A, title=\"Technosphere matrix \\n$\\mathbf{A}$\", save_path=r\"../source/images/bw2_eg2_A1.jpg\");"
   ]
  },
  {
   "cell_type": "code",
   "execution_count": 88,
   "metadata": {},
   "outputs": [
    {
     "name": "stdout",
     "output_type": "stream",
     "text": [
      "Times updated\tIndex value\tInput from a1\tInput from a2\n",
      "0 \t\t 0 \t\t -0.1 \t\t -0.9\n",
      "1 \t\t 1 \t\t -0.2 \t\t -0.8\n",
      "2 \t\t 2 \t\t -0.4 \t\t -0.6\n",
      "3 \t\t 3 \t\t -0.7 \t\t -0.3\n",
      "4 \t\t 4 \t\t -0.4 \t\t -0.6\n",
      "5 \t\t 5 \t\t -0.5 \t\t -0.5\n",
      "6 \t\t 0 \t\t -0.1 \t\t -0.9\n",
      "7 \t\t 1 \t\t -0.2 \t\t -0.8\n",
      "8 \t\t 2 \t\t -0.4 \t\t -0.6\n",
      "9 \t\t 3 \t\t -0.7 \t\t -0.3\n"
     ]
    }
   ],
   "source": [
    "lca = bw.LCA({('db1', 'b'):1}, presamples=[time_pp_path])\n",
    "print(\"Times updated\\tIndex value\\tInput from a1\\tInput from a2\")\n",
    "for i in range(10):\n",
    "    if i == 0:\n",
    "        lca.lci()\n",
    "    else:\n",
    "        lca.presamples.update_matrices()\n",
    "    from_a1 = lca.technosphere_matrix[\n",
    "        lca.product_dict[('db1', 'a1')], \n",
    "        lca.activity_dict[('db1', 'b')]\n",
    "    ]\n",
    "    from_a2 = lca.technosphere_matrix[\n",
    "        lca.product_dict[('db1', 'a2')], \n",
    "        lca.activity_dict[('db1', 'b')]\n",
    "    ]\n",
    "    index_value = lca.presamples.matrix_indexer[0].index\n",
    "    print(i, \"\\t\\t\", index_value, \"\\t\\t\", from_a1, \"\\t\\t\", from_a2)"
   ]
  },
  {
   "cell_type": "code",
   "execution_count": 106,
   "metadata": {},
   "outputs": [
    {
     "name": "stdout",
     "output_type": "stream",
     "text": [
      "0 1.1\n",
      "1 1.2000000000000002\n",
      "2 1.4\n",
      "3 1.7\n",
      "4 1.4\n",
      "5 1.5\n"
     ]
    }
   ],
   "source": [
    "lca = bw.LCA({('db1', 'b'):1}, presamples=[time_pp_path], method=(\"mock method\", \"pollutant emission\"))\n",
    "for i in range(6):\n",
    "    if i == 0:\n",
    "        lca.lci()\n",
    "        lca.lcia()\n",
    "    else:\n",
    "        lca.presamples.update_matrices()\n",
    "        lca.redo_lci()\n",
    "        lca.redo_lcia()\n",
    "    print(i, lca.score)"
   ]
  },
  {
   "cell_type": "code",
   "execution_count": 100,
   "metadata": {},
   "outputs": [],
   "source": [
    "time_not_seq_pp_id, time_not_seq_pp_path = ps.create_presamples_package(\n",
    "    matrix_data = time_matrix_data,\n",
    "    seed=42\n",
    "    )"
   ]
  },
  {
   "cell_type": "code",
   "execution_count": 101,
   "metadata": {},
   "outputs": [
    {
     "name": "stdout",
     "output_type": "stream",
     "text": [
      "Times updated\tIndex value\tInput from a1\tInput from a2\n",
      "0 \t\t 0 \t\t -0.1 \t\t -0.9\n",
      "1 \t\t 3 \t\t -0.7 \t\t -0.3\n",
      "2 \t\t 2 \t\t -0.4 \t\t -0.6\n",
      "3 \t\t 4 \t\t -0.4 \t\t -0.6\n",
      "4 \t\t 4 \t\t -0.4 \t\t -0.6\n",
      "5 \t\t 3 \t\t -0.7 \t\t -0.3\n",
      "6 \t\t 2 \t\t -0.4 \t\t -0.6\n",
      "7 \t\t 0 \t\t -0.1 \t\t -0.9\n",
      "8 \t\t 4 \t\t -0.4 \t\t -0.6\n",
      "9 \t\t 5 \t\t -0.5 \t\t -0.5\n"
     ]
    }
   ],
   "source": [
    "lca = bw.LCA({('db1', 'b'):1}, presamples=[time_not_seq_pp_path])\n",
    "print(\"Times updated\\tIndex value\\tInput from a1\\tInput from a2\")\n",
    "for i in range(10):\n",
    "    if i == 0:\n",
    "        lca.lci()\n",
    "    else:\n",
    "        lca.presamples.update_matrices()\n",
    "    from_a1 = lca.technosphere_matrix[\n",
    "        lca.product_dict[('db1', 'a1')], \n",
    "        lca.activity_dict[('db1', 'b')]\n",
    "    ]\n",
    "    from_a2 = lca.technosphere_matrix[\n",
    "        lca.product_dict[('db1', 'a2')], \n",
    "        lca.activity_dict[('db1', 'b')]\n",
    "    ]\n",
    "    index_value = lca.presamples.matrix_indexer[0].index\n",
    "    print(i, \"\\t\\t\", index_value, \"\\t\\t\", from_a1, \"\\t\\t\", from_a2)"
   ]
  },
  {
   "cell_type": "markdown",
   "metadata": {},
   "source": [
    "## Example 3"
   ]
  },
  {
   "cell_type": "markdown",
   "metadata": {},
   "source": [
    "Before:"
   ]
  },
  {
   "cell_type": "markdown",
   "metadata": {},
   "source": [
    "![bw2_eg3_ps_initial](../source/images/bw2_eg3_before.jpg)"
   ]
  },
  {
   "cell_type": "markdown",
   "metadata": {},
   "source": [
    "After:"
   ]
  },
  {
   "cell_type": "markdown",
   "metadata": {},
   "source": [
    "![bw2_eg3_ps_after](../source/images/bw2_eg3_after.jpg)"
   ]
  },
  {
   "cell_type": "code",
   "execution_count": 11,
   "metadata": {},
   "outputs": [
    {
     "name": "stderr",
     "output_type": "stream",
     "text": [
      "Writing activities to SQLite3 database:\n",
      "0% [##] 100% | ETA: 00:00:00\n",
      "Total time elapsed: 00:00:00\n"
     ]
    },
    {
     "name": "stdout",
     "output_type": "stream",
     "text": [
      "Title: Writing activities to SQLite3 database:\n",
      "  Started: 03/10/2020 22:01:56\n",
      "  Finished: 03/10/2020 22:01:56\n",
      "  Total time elapsed: 00:00:00\n",
      "  CPU %: 0.00\n",
      "  Memory %: 0.88\n"
     ]
    }
   ],
   "source": [
    "# Writing database\n",
    "my_db = bw.Database('db2')\n",
    "my_db.register()\n",
    "my_db.write({\n",
    "    ('db2', 'a'): {\n",
    "        'type': 'process',\n",
    "        'name': 'Production a',\n",
    "        'unit': 'kg',\n",
    "        'location': 'GLO',\n",
    "        'reference product': 'A',\n",
    "        'production amount': 1,\n",
    "        'activity type': 'ordinary transforming activity',\n",
    "        'comment': 'represents cradle-to-gate LCI',\n",
    "        'exchanges': [\n",
    "            {\n",
    "                'name': 'A',\n",
    "                'unit': 'kg',\n",
    "                'amount': 1.0,\n",
    "                'input': ('db2', 'a'),\n",
    "                'type': 'production',\n",
    "            },\n",
    "            {\n",
    "                'name': 'Some emission',\n",
    "                'unit': 'kg',\n",
    "                'amount': 0.5,\n",
    "                'input': ('bio', 'emission'),\n",
    "                'type': 'biosphere',\n",
    "            },\n",
    "        ],\n",
    "    },\n",
    "    ('db2', \"b\"): {\n",
    "        'type': 'process',\n",
    "        'name': 'Producer b',\n",
    "        'unit': 'kg',\n",
    "        'location': 'GLO',\n",
    "        'reference product': 'b',\n",
    "        'production amount': 1,\n",
    "        'activity type': 'ordinary transforming activity',\n",
    "        'exchanges': [\n",
    "            {\n",
    "                'name': 'b',\n",
    "                'unit': 'kg',\n",
    "                'amount': 1.0,\n",
    "                'input': ('db2', 'b'),\n",
    "                'type': 'production',\n",
    "                'uncertainty type': 0,\n",
    "            },\n",
    "            {\n",
    "                'name': 'A',\n",
    "                'unit': 'kg',\n",
    "                'amount': 1,\n",
    "                'input': ('db2', 'a'),\n",
    "                'type': 'technosphere',\n",
    "            },\n",
    "            {\n",
    "                'name': 'Some emission',\n",
    "                'unit': 'kg',\n",
    "                'amount': 0.6,\n",
    "                'input': ('bio', 'emission'),\n",
    "                'type': 'biosphere',\n",
    "            },\n",
    "        ],\n",
    "    },\n",
    "})"
   ]
  },
  {
   "cell_type": "code",
   "execution_count": 12,
   "metadata": {},
   "outputs": [],
   "source": [
    "eg3_matrix_data = [\n",
    "    (\n",
    "        np.array([1.2]).reshape(1, 1), # Only one value, but array still needs to have two dimensions\n",
    "        [(('db2', 'a'), ('db2', 'b'), 'technosphere')],\n",
    "        'technosphere'\n",
    "    ),\n",
    "    (\n",
    "        np.array([0.4]).reshape(1, 1), # Again, only one value\n",
    "        [(('bio', 'emission'), ('db2', 'b')),], # No need to specify the exchange type, there is only one type\n",
    "        'biosphere'\n",
    "    )\n",
    "]"
   ]
  },
  {
   "cell_type": "code",
   "execution_count": 13,
   "metadata": {},
   "outputs": [],
   "source": [
    "eg3_pp_id, eg3_pp_path = ps.create_presamples_package(matrix_data = eg3_matrix_data)"
   ]
  },
  {
   "cell_type": "code",
   "execution_count": 14,
   "metadata": {},
   "outputs": [],
   "source": [
    "lca0 = bw.LCA({('db2', 'b'):1}, method=('mock method', 'pollutant emission'))\n",
    "lca1 = bw.LCA({('db2', 'b'):1}, method=('mock method', 'pollutant emission'), presamples=[eg3_pp_path])"
   ]
  },
  {
   "cell_type": "code",
   "execution_count": 15,
   "metadata": {},
   "outputs": [],
   "source": [
    "lca0.lci()\n",
    "lca0.lcia()\n",
    "lca1.lci()\n",
    "lca1.lcia()"
   ]
  },
  {
   "cell_type": "code",
   "execution_count": 16,
   "metadata": {},
   "outputs": [
    {
     "data": {
      "text/plain": [
       "0.9090908893868948"
      ]
     },
     "execution_count": 16,
     "metadata": {},
     "output_type": "execute_result"
    }
   ],
   "source": [
    "lca1.score/lca0.score"
   ]
  },
  {
   "cell_type": "markdown",
   "metadata": {},
   "source": [
    "## Example 4 - Balancing sampled exchange values"
   ]
  },
  {
   "cell_type": "code",
   "execution_count": 31,
   "metadata": {},
   "outputs": [
    {
     "name": "stderr",
     "output_type": "stream",
     "text": [
      "Writing activities to SQLite3 database:\n",
      "0% [##] 100% | ETA: 00:00:00\n",
      "Total time elapsed: 00:00:00\n"
     ]
    },
    {
     "name": "stdout",
     "output_type": "stream",
     "text": [
      "Title: Writing activities to SQLite3 database:\n",
      "  Started: 03/10/2020 22:54:31\n",
      "  Finished: 03/10/2020 22:54:31\n",
      "  Total time elapsed: 00:00:00\n",
      "  CPU %: 0.00\n",
      "  Memory %: 0.69\n"
     ]
    }
   ],
   "source": [
    "# Writing database\n",
    "my_db = bw.Database('db3')\n",
    "my_db.register()\n",
    "my_db.write({\n",
    "    ('db3', 'a'): {\n",
    "        'type': 'process',\n",
    "        'name': 'Production a',\n",
    "        'unit': 'kg',\n",
    "        'location': 'GLO',\n",
    "        'reference product': 'A',\n",
    "        'production amount': 1,\n",
    "        'activity type': 'ordinary transforming activity',\n",
    "        'exchanges': [\n",
    "            {\n",
    "                'name': 'A',\n",
    "                'unit': 'kg',\n",
    "                'amount': 1.0,\n",
    "                'input': ('db3', 'a'),\n",
    "                'type': 'production',\n",
    "            },\n",
    "            {\n",
    "                'name': 'Some emission',\n",
    "                'unit': 'kg',\n",
    "                'amount': 3,\n",
    "                'input': ('bio', 'emission'),\n",
    "                'type': 'biosphere',\n",
    "                'uncertainty type': 2,\n",
    "                'loc': np.log(3),\n",
    "                'scale': np.log(np.sqrt(1.2)),\n",
    "            },\n",
    "            {\n",
    "                'name': 'fuel',\n",
    "                'unit': 'kg',\n",
    "                'amount': 1,\n",
    "                'input': ('db3', 'fuel'),\n",
    "                'type': 'technosphere',\n",
    "                'uncertainty type': 2,\n",
    "                'loc': np.log(1),\n",
    "                'scale': np.log(np.sqrt(1.2)),\n",
    "            },\n",
    "        ],\n",
    "    },\n",
    "    ('db3', \"fuel\"): {\n",
    "        'type': 'process',\n",
    "        'name': 'fuel production',\n",
    "        'unit': 'kg',\n",
    "        'location': 'GLO',\n",
    "        'reference product': 'b',\n",
    "        'production amount': 1,\n",
    "        'activity type': 'ordinary transforming activity',\n",
    "        'comment': 'Represents cradle-to-gate emissions',\n",
    "        'exchanges': [\n",
    "            {\n",
    "                'name': 'fuel',\n",
    "                'unit': 'kg',\n",
    "                'amount': 1.0,\n",
    "                'input': ('db3', 'fuel'),\n",
    "                'type': 'production',\n",
    "                'uncertainty type': 0,\n",
    "            },\n",
    "            {\n",
    "                'name': 'Some emission',\n",
    "                'unit': 'kg',\n",
    "                'amount': 0.5,\n",
    "                'input': ('bio', 'emission'),\n",
    "                'type': 'biosphere',\n",
    "                'uncertainty type': 2,\n",
    "                'loc': np.log(0.5),\n",
    "                'scale': np.log(np.sqrt(1.2)),\n",
    "            },\n",
    "        ],\n",
    "    },\n",
    "})"
   ]
  },
  {
   "cell_type": "code",
   "execution_count": 94,
   "metadata": {},
   "outputs": [
    {
     "name": "stdout",
     "output_type": "stream",
     "text": [
      "Fuel\t\tEmission\tRatio\n",
      "1.11\t\t3.32\t\t3.0\n",
      "1.02\t\t2.91\t\t2.84968\n",
      "0.969\t\t3.5\t\t3.61066\n",
      "0.855\t\t2.92\t\t3.42095\n",
      "1.17\t\t2.77\t\t2.37436\n",
      "1.13\t\t3.04\t\t2.69255\n",
      "0.975\t\t2.78\t\t2.84856\n",
      "0.881\t\t3.35\t\t3.79877\n",
      "0.923\t\t2.81\t\t3.03841\n",
      "0.966\t\t3.04\t\t3.14529\n"
     ]
    }
   ],
   "source": [
    "mc = bw.MonteCarloLCA({('db3', 'a'):1}, method=(\"mock method\", \"pollutant emission\"))\n",
    "print(\"Fuel\\t\\tEmission\\tRatio\")\n",
    "for _ in range(10):\n",
    "    arr[_]=next(mc)\n",
    "    fuel = mc.technosphere_matrix[\n",
    "        mc.product_dict[('db3', 'fuel')],\n",
    "        mc.activity_dict[('db3', 'a')],\n",
    "    ]\n",
    "    emission = mc.biosphere_matrix[\n",
    "        mc.biosphere_dict[('bio', 'emission')],\n",
    "        mc.activity_dict[('db3', 'a')],\n",
    "    ]\n",
    "    print(\"{:.3}\\t\\t{:.3}\\t\\t{:.6}\".format(-fuel, emission, -emission/fuel))"
   ]
  },
  {
   "cell_type": "code",
   "execution_count": 111,
   "metadata": {},
   "outputs": [],
   "source": [
    "df = pd.DataFrame(columns=['Parameter', 'Balanced', 'Amount'])"
   ]
  },
  {
   "cell_type": "code",
   "execution_count": 112,
   "metadata": {},
   "outputs": [],
   "source": [
    "mc = bw.MonteCarloLCA({('db3', 'a'):1}, method=(\"mock method\", \"pollutant emission\"))\n",
    "\n",
    "for i in range(1000):\n",
    "    next(mc)\n",
    "    fuel = mc.technosphere_matrix[\n",
    "        mc.product_dict[('db3', 'fuel')],\n",
    "        mc.activity_dict[('db3', 'a')],\n",
    "    ]\n",
    "    emission = mc.biosphere_matrix[\n",
    "        mc.biosphere_dict[('bio', 'emission')],\n",
    "        mc.activity_dict[('db3', 'a')],\n",
    "    ]\n",
    "    df=df.append({'Parameter': 'Fuel', 'Balanced': 'False', 'Amount': -fuel}, ignore_index=True)\n",
    "    df=df.append({'Parameter': 'Emissions', 'Balanced': 'False', 'Amount': emission}, ignore_index=True)\n",
    "    df=df.append({'Parameter': 'Ratio', 'Balanced': 'False', 'Amount': -emission/fuel}, ignore_index=True)"
   ]
  },
  {
   "cell_type": "code",
   "execution_count": 113,
   "metadata": {},
   "outputs": [],
   "source": [
    "fuel_consumption = np.random.lognormal(mean=np.log(1), sigma=np.log(np.sqrt(1.2)), size=1000)"
   ]
  },
  {
   "cell_type": "code",
   "execution_count": 114,
   "metadata": {},
   "outputs": [],
   "source": [
    "emissions = fuel_consumption * 3"
   ]
  },
  {
   "cell_type": "code",
   "execution_count": 115,
   "metadata": {},
   "outputs": [],
   "source": [
    "balanced_samples = np.stack([fuel_consumption, emissions], axis=0)"
   ]
  },
  {
   "cell_type": "code",
   "execution_count": 116,
   "metadata": {},
   "outputs": [],
   "source": [
    "balanced_indices = [\n",
    "    (('db3', 'fuel'), ('db3', 'a'), 'technosphere'),\n",
    "    (('bio', 'emission'), ('db3', 'a'), 'biosphere'),\n",
    "]"
   ]
  },
  {
   "cell_type": "code",
   "execution_count": 127,
   "metadata": {},
   "outputs": [],
   "source": [
    "matrix_data = ps.split_inventory_presamples(balanced_samples, balanced_indices)"
   ]
  },
  {
   "cell_type": "code",
   "execution_count": 133,
   "metadata": {},
   "outputs": [],
   "source": [
    "bio_data = matrix_data[0]"
   ]
  },
  {
   "cell_type": "code",
   "execution_count": 134,
   "metadata": {},
   "outputs": [
    {
     "data": {
      "text/plain": [
       "(array([3.30923763, 2.88238829, 2.82005106, 2.92788522, 2.86454275,\n",
       "        3.41350596, 3.03328453, 2.97565299, 2.9725899 , 2.91354418]),\n",
       " [(('bio', 'emission'), ('db3', 'a'))],\n",
       " 'biosphere')"
      ]
     },
     "execution_count": 134,
     "metadata": {},
     "output_type": "execute_result"
    }
   ],
   "source": [
    "bio_data[0][0, 0:10], bio_data[1], bio_data[2]"
   ]
  },
  {
   "cell_type": "code",
   "execution_count": 135,
   "metadata": {},
   "outputs": [],
   "source": [
    "techno_data = matrix_data[1]"
   ]
  },
  {
   "cell_type": "code",
   "execution_count": 136,
   "metadata": {},
   "outputs": [
    {
     "data": {
      "text/plain": [
       "(array([1.10307921, 0.9607961 , 0.94001702, 0.97596174, 0.95484758,\n",
       "        1.13783532, 1.01109484, 0.99188433, 0.9908633 , 0.97118139]),\n",
       " [(('db3', 'fuel'), ('db3', 'a'), 'technosphere')],\n",
       " 'technosphere')"
      ]
     },
     "execution_count": 136,
     "metadata": {},
     "output_type": "execute_result"
    }
   ],
   "source": [
    "techno_data[0][0, 0:10], techno_data[1], techno_data[2]"
   ]
  },
  {
   "cell_type": "code",
   "execution_count": 117,
   "metadata": {},
   "outputs": [],
   "source": [
    "balanced_id, balanced_path = ps.create_presamples_package(\n",
    "    matrix_data=ps.split_inventory_presamples(balanced_samples, balanced_indices)\n",
    ")"
   ]
  },
  {
   "cell_type": "code",
   "execution_count": 118,
   "metadata": {},
   "outputs": [],
   "source": [
    "mc_balanced = bw.MonteCarloLCA({('db3', 'a'):1}, method=(\"mock method\", \"pollutant emission\"),\n",
    "                              presamples=[balanced_path])\n",
    "for i in range(1000):\n",
    "    next(mc_balanced)\n",
    "    fuel = mc_balanced.technosphere_matrix[\n",
    "        mc_balanced.product_dict[('db3', 'fuel')],\n",
    "        mc_balanced.activity_dict[('db3', 'a')],\n",
    "    ]\n",
    "    emission = mc_balanced.biosphere_matrix[\n",
    "        mc_balanced.biosphere_dict[('bio', 'emission')],\n",
    "        mc_balanced.activity_dict[('db3', 'a')],\n",
    "    ]\n",
    "    df=df.append({'Parameter': 'Fuel', 'Balanced': 'True', 'Amount': -fuel}, ignore_index=True)\n",
    "    df=df.append({'Parameter': 'Emissions', 'Balanced': 'True', 'Amount': emission}, ignore_index=True)\n",
    "    df=df.append({'Parameter': 'Ratio', 'Balanced': 'True', 'Amount': -emission/fuel}, ignore_index=True)"
   ]
  },
  {
   "cell_type": "code",
   "execution_count": 126,
   "metadata": {},
   "outputs": [
    {
     "name": "stderr",
     "output_type": "stream",
     "text": [
      "C:\\mypy\\anaconda\\envs\\bw_dev_fall_2019\\lib\\site-packages\\seaborn\\axisgrid.py:715: UserWarning: Using the boxplot function without specifying `order` is likely to produce an incorrect plot.\n",
      "  warnings.warn(warning)\n"
     ]
    },
    {
     "data": {
      "image/png": "[encoded data removed]",
      "text/plain": [
       "<Figure size 648x432 with 6 Axes>"
      ]
     },
     "metadata": {
      "needs_background": "light"
     },
     "output_type": "display_data"
    }
   ],
   "source": [
    "g = sns.FacetGrid(df, row=\"Balanced\", col=\"Parameter\", margin_titles=True)\n",
    "g.map(sns.boxplot, \"Amount\", orient='V')\n",
    "g.savefig(r\"../source/images/eg4_plot.jpeg\")"
   ]
  },
  {
   "cell_type": "code",
   "execution_count": null,
   "metadata": {},
   "outputs": [],
   "source": []
  },
  {
   "cell_type": "code",
   "execution_count": 102,
   "metadata": {},
   "outputs": [
    {
     "data": {
      "text/plain": [
       "(2.9999999999999996, 3.0000000000000004)"
      ]
     },
     "execution_count": 102,
     "metadata": {},
     "output_type": "execute_result"
    }
   ],
   "source": [
    "ratio_balanced.min(), ratio_balanced.max(), "
   ]
  },
  {
   "cell_type": "code",
   "execution_count": null,
   "metadata": {},
   "outputs": [],
   "source": []
  },
  {
   "cell_type": "code",
   "execution_count": 41,
   "metadata": {},
   "outputs": [
    {
     "data": {
      "text/plain": [
       "array([1.0530212 , 0.92752258, 0.89529092, 0.84222057, 1.12408009,\n",
       "       0.79263305, 0.92868245, 1.03090234, 0.76801553, 0.94224468])"
      ]
     },
     "execution_count": 41,
     "metadata": {},
     "output_type": "execute_result"
    }
   ],
   "source": [
    "fuel_consumption"
   ]
  },
  {
   "cell_type": "code",
   "execution_count": null,
   "metadata": {},
   "outputs": [],
   "source": [
    "for i in range(10):\n",
    "    next(mc)\n",
    "    print(\"iteration: \", i,\"\\n\\tindexer count: \", mc.presamples.matrix_indexer[0].count,\"\\n\\tindexer index: \", mc.presamples.matrix_indexer[0].index)"
   ]
  },
  {
   "cell_type": "code",
   "execution_count": null,
   "metadata": {},
   "outputs": [],
   "source": [
    "lca = bw.LCA({('db1', 'b'):1}, presamples=[time_pp_path], method=(\"mock method\", \"pollutant emission\"))"
   ]
  },
  {
   "cell_type": "code",
   "execution_count": null,
   "metadata": {},
   "outputs": [],
   "source": [
    "lca.presamples.reset_sequential_indices()"
   ]
  },
  {
   "cell_type": "code",
   "execution_count": null,
   "metadata": {},
   "outputs": [],
   "source": [
    "print(\"iteration\\tindex\")\n",
    "for i in range(time_array.shape[1]):\n",
    "    lca.presamples.update_matrices()\n",
    "    lca.lci()\n",
    "    print(i, \"\\t\\t\", lca.presamples.matrix_indexer[0].index)\n",
    "    #print(\"iteration: \", i,\"\\n\\tindexer count: \", lca.presamples.matrix_indexer[0].count,\"\\n\\tindexer index: \", lca.presamples.matrix_indexer[0].index)"
   ]
  },
  {
   "cell_type": "code",
   "execution_count": null,
   "metadata": {},
   "outputs": [],
   "source": [
    "for i in range(time_array.shape[1]):\n",
    "    if i == 0:\n",
    "        print(i, lca.presamples.matrix_indexer[0].count, lca.presamples.matrix_indexer[0].index)\n",
    "        lca.lci()\n",
    "        A, _, _, _ = format_matrices(lca=lca)\n",
    "        matrix_to_plot(A)\n",
    "    else:\n",
    "        lca.presamples.update_matrices()\n",
    "        print(i, lca.presamples.matrix_indexer[0].count, lca.presamples.matrix_indexer[0].index)\n",
    "        lca.lci()\n",
    "        A, _, _, _ = format_matrices(lca=lca)\n",
    "        matrix_to_plot(A)"
   ]
  },
  {
   "cell_type": "code",
   "execution_count": null,
   "metadata": {},
   "outputs": [],
   "source": []
  },
  {
   "cell_type": "code",
   "execution_count": null,
   "metadata": {},
   "outputs": [],
   "source": []
  },
  {
   "cell_type": "code",
   "execution_count": null,
   "metadata": {},
   "outputs": [],
   "source": [
    "\n",
    "if \n",
    "lca.presamples.update_package_indices()\n",
    "lca.presamples.matrix_indexer[0].count"
   ]
  },
  {
   "cell_type": "code",
   "execution_count": null,
   "metadata": {},
   "outputs": [],
   "source": [
    "lca.lci()"
   ]
  },
  {
   "cell_type": "code",
   "execution_count": null,
   "metadata": {},
   "outputs": [],
   "source": [
    "lca.presamples.update_matrices()"
   ]
  },
  {
   "cell_type": "code",
   "execution_count": null,
   "metadata": {},
   "outputs": [],
   "source": [
    "lca.presamples.update_package_indices()"
   ]
  },
  {
   "cell_type": "code",
   "execution_count": null,
   "metadata": {},
   "outputs": [],
   "source": [
    "lca.presamples.advance_indices"
   ]
  },
  {
   "cell_type": "code",
   "execution_count": null,
   "metadata": {},
   "outputs": [],
   "source": []
  },
  {
   "cell_type": "code",
   "execution_count": null,
   "metadata": {},
   "outputs": [],
   "source": [
    "lca = bw.LCA({('db1', 'b'):1}, presamples=[time_pp_path], method=(\"mock method\", \"pollutant emission\"))\n",
    "for t in range(time_array.shape[1]):\n",
    "    print(\"time step\", t)\n",
    "    lca.load_lci_data()\n",
    "    lca.lci()\n",
    "    lca.lcia()\n",
    "    print(lca.score)\n",
    "    A, _, _, _ = format_matrices(lca=lca)\n",
    "    matrix_to_plot(\n",
    "        A, \n",
    "        return_fig=True, \n",
    "        title=\"Technosphere matrix \\n{}\\nTime step {}\".format(\"A\", t), \n",
    "        save_path=r\"../source/images/eg2_A_{}.jpg\".format(t));"
   ]
  },
  {
   "cell_type": "code",
   "execution_count": null,
   "metadata": {},
   "outputs": [],
   "source": [
    "indexer = lca.presamples.matrix_indexer[0]"
   ]
  },
  {
   "cell_type": "code",
   "execution_count": null,
   "metadata": {},
   "outputs": [],
   "source": [
    "next(indexer)\n",
    "indexer.index"
   ]
  },
  {
   "cell_type": "markdown",
   "metadata": {},
   "source": [
    "## LCA matrices and the case for using presamples"
   ]
  },
  {
   "cell_type": "markdown",
   "metadata": {},
   "source": [
    "At its barest expression, LCA models can be represented with three matrices and a vector:\n",
    "\n",
    " * the technosphere matrix $\\mathbf{A}$, describing the links among activities in the technosphere (technosphere exchanges)\n",
    " * the biosphere matrix $\\mathbf{B}$, satellite matrix describing the exchanges between the activities and the environment (elementary flows)\n",
    " * the characterization matrix $\\mathbf{C}$, giving unit impact factors for elementary flows with the environment (characterisation factors)\n",
    " * the final demand vector **f**\n",
    "\n",
    "An impact score per functional unit is given by $\\mathbf{g} = \\mathbf{CBA^{-1}f}$\n",
    "\n",
    "Presamples can replace values in any these matrices as calculations are carried out.\n",
    "\n",
    "Storing and injecting specific values in LCA matrices can improve LCA calculations in many ways:\n",
    "\n",
    "  * Storing and reusing data characterizing given scenarios makes scenario analysis much easier.\n",
    "  * It can easily integrate time series.\n",
    "  * It can use pre-generated static or stochastic values that were generated by complex, non-linear models, allowing the\n",
    "    LCA model to capture system dynamics more accurately.\n",
    "  * It is possible to account to correlation across parameters during Monte Carlo Simulations (e.g. for correlation\n",
    "    between characterization factors, between fuel use and CO2 emissions, etc.\n",
    "  * Since sampled data can be used directly, it is unnecessary to fit data to a distribution."
   ]
  },
  {
   "cell_type": "markdown",
   "metadata": {},
   "source": [
    "## Defining the input matrix_data"
   ]
  },
  {
   "cell_type": "markdown",
   "metadata": {},
   "source": [
    "GET FROM RST"
   ]
  },
  {
   "cell_type": "markdown",
   "metadata": {},
   "source": [
    "### Formating functions (Notebook version only)"
   ]
  },
  {
   "cell_type": "markdown",
   "metadata": {},
   "source": [
    "The following functions were written to format some of the objects that are encountered in LCA.  \n",
    "These are presented here, but are excluded from the documentation found on [readthedocs](https://presamples.readthedocs.io/).  \n",
    "If you prefer a less cluttered view of the use of presamples, we suggest you visit the docs instead.  "
   ]
  },
  {
   "cell_type": "code",
   "execution_count": null,
   "metadata": {},
   "outputs": [],
   "source": [
    "# Import required modules\n",
    "import numpy as np\n",
    "import pandas as pd\n",
    "# The matrices used in the example are not sparse, so we ignore the SparseEfficiencyWarning\n",
    "import warnings\n",
    "from scipy.sparse import SparseEfficiencyWarning\n",
    "warnings.filterwarnings(\"ignore\", category=SparseEfficiencyWarning) \n",
    "import seaborn as sns\n",
    "import matplotlib.pyplot as plt\n",
    "%matplotlib inline"
   ]
  },
  {
   "cell_type": "code",
   "execution_count": null,
   "metadata": {},
   "outputs": [],
   "source": [
    "# Format matrices to DataFrame\n",
    "def format_matrices(database=None, demand=None, lca=None):\n",
    "    if lca is None:\n",
    "        if demand is None:\n",
    "            act = bw.Database(database).random()\n",
    "            demand={act:act.get('production amount', 1)}\n",
    "        lca = bw.LCA(demand)\n",
    "    lca.lci()\n",
    "    rev_activity_dict, rev_product_dict, rev_bio_dict = lca.reverse_dict()\n",
    "    def get_name_with_units(act_key):\n",
    "        act = bw.get_activity(act_key)\n",
    "        return \"\\n{} ({})\\n{}\\n\".format(act['name'], act['unit'], act.key)\n",
    "    \n",
    "    col_names = [get_name_with_units(rev_activity_dict[i]) for i in np.arange(lca.inventory.shape[1])]\n",
    "    techno_row_names = [get_name_with_units(rev_product_dict[i]) for i in np.arange(lca.technosphere_matrix.shape[0])]\n",
    "    bio_row_names = [get_name_with_units(rev_bio_dict[i]) for i in np.arange(lca.biosphere_matrix.shape[0])]\n",
    "    lca.demand_array = np.eye(lca.technosphere_matrix.shape[0])\n",
    "    A_formatted = pd.DataFrame(index=techno_row_names, columns=col_names, data=lca.technosphere_matrix.todense())\n",
    "    B_formatted = pd.DataFrame(index=bio_row_names, columns=col_names, data=lca.biosphere_matrix.todense())\n",
    "    #TODO CHANGE NAMES\n",
    "    S = lca.solve_linear_system()\n",
    "    G = lca.biosphere_matrix * S\n",
    "    invA_formatted = pd.DataFrame(index=col_names, columns=techno_row_names, data=S)\n",
    "    G_formatted = pd.DataFrame(index=bio_row_names, columns=col_names, data=G)\n",
    "    return A_formatted, B_formatted, invA_formatted, G_formatted\n",
    "\n",
    "def format_matrices_simple(database=None, demand=None, lca=None):\n",
    "    if lca is None:\n",
    "        if demand is None:\n",
    "            act = bw.Database(database).random()\n",
    "            demand={act:act.get('production amount', 1)}\n",
    "        lca = bw.LCA(demand)\n",
    "    lca.lci()\n",
    "    rev_activity_dict, rev_product_dict, rev_bio_dict = lca.reverse_dict()\n",
    "    def get_name_with_units(act_key):\n",
    "        act = bw.get_activity(act_key)\n",
    "        return \"\\n{}\\n{}\\n\".format(act.key, act['unit'])\n",
    "    \n",
    "    col_names = [get_name_with_units(rev_activity_dict[i]) for i in np.arange(lca.inventory.shape[1])]\n",
    "    techno_row_names = [get_name_with_units(rev_product_dict[i]) for i in np.arange(lca.technosphere_matrix.shape[0])]\n",
    "    bio_row_names = [get_name_with_units(rev_bio_dict[i]) for i in np.arange(lca.biosphere_matrix.shape[0])]\n",
    "    lca.demand_array = np.eye(lca.technosphere_matrix.shape[0])\n",
    "    A_formatted = pd.DataFrame(index=techno_row_names, columns=col_names, data=lca.technosphere_matrix.todense())\n",
    "    B_formatted = pd.DataFrame(index=bio_row_names, columns=col_names, data=lca.biosphere_matrix.todense())\n",
    "    #TODO CHANGE NAMES\n",
    "    S = lca.solve_linear_system()\n",
    "    G = lca.biosphere_matrix * S\n",
    "    invA_formatted = pd.DataFrame(index=col_names, columns=techno_row_names, data=S)\n",
    "    G_formatted = pd.DataFrame(index=bio_row_names, columns=col_names, data=G)\n",
    "    return A_formatted, B_formatted, invA_formatted, G_formatted\n",
    "\n",
    "\n",
    "# Format matrices to figure\n",
    "def matrix_to_plot(matrix_as_df, return_fig=True, title=None, save_path=None, title_size=14, scaling_ratio=4):\n",
    "    w = 2 + matrix_as_df.shape[1]/scaling_ratio\n",
    "    h = 2 + matrix_as_df.shape[0]/scaling_ratio\n",
    "    plt.figure(figsize=(w,h))\n",
    "    matrix_plot = sns.heatmap(\n",
    "        matrix_as_df, annot=True, cbar=False, cmap=(['white']), \n",
    "        mask=(matrix_as_df==0).values, linewidths=1, linecolor='grey',\n",
    "        square=True\n",
    "    )\n",
    "    fig = matrix_plot.get_figure()\n",
    "    if title:\n",
    "        plt.title(title, fontsize=title_size)\n",
    "    if save_path:\n",
    "        fig.savefig(save_path, bbox_inches=\"tight\", ext=\"jpg\")\n",
    "    if return_fig:\n",
    "        return fig"
   ]
  },
  {
   "cell_type": "code",
   "execution_count": null,
   "metadata": {},
   "outputs": [],
   "source": [
    "import brightway2 as bw\n",
    "bw.projects.set_current(\"presamples doc\")\n",
    "bio = bw.Database(\"bio\")\n",
    "bio.register()\n",
    "bio.write({\n",
    "    (\"bio\", \"emission\"): {\n",
    "        'categories': ['water'],\n",
    "        'name': 'Some emission',\n",
    "        'type': 'emission',\n",
    "        'unit': 'kg'\n",
    "    },\n",
    "    (\"bio\", \"water in\"): {\n",
    "        'categories': ['natural resource'],\n",
    "        'exchanges': [],\n",
    "        'name': 'Water in',\n",
    "        'type': 'natural resource',\n",
    "        'unit': 'm3'\n",
    "    },\n",
    "    (\"bio\", \"water out\"): {\n",
    "        'categories': ['water'],\n",
    "        'exchanges': [],\n",
    "        'name': 'Water out',\n",
    "        'type': 'emission',\n",
    "        'unit': 'm3'\n",
    "    },\n",
    "    (\"bio\", \"land from\"): {\n",
    "        'categories': ('natural resource', 'land'),\n",
    "        'exchanges': [],\n",
    "        'name': 'Transformation, from x',\n",
    "        'type': 'natural resource',\n",
    "        'unit': 'm2'\n",
    "    },\n",
    "    (\"bio\", \"land to\"): {\n",
    "        'categories': ('natural resource', 'land'),\n",
    "        'exchanges': [],\n",
    "        'name': 'Transformation, to y',\n",
    "        'type': 'natural resource',\n",
    "        'unit': 'm2'\n",
    "    },\n",
    "})"
   ]
  },
  {
   "cell_type": "markdown",
   "metadata": {},
   "source": [
    "## Example 1 - Static scenario analysis: changing supplier"
   ]
  },
  {
   "cell_type": "code",
   "execution_count": null,
   "metadata": {},
   "outputs": [],
   "source": [
    "my_db = bw.Database('db1')\n",
    "my_db.register()\n",
    "my_db.write({\n",
    "    ('db1', \"a1\"): {\n",
    "        'type': 'process',\n",
    "        'name': 'a, producer a1',\n",
    "        'unit': 'kg',\n",
    "        'location': 'GLO',\n",
    "        'reference product': 'a',\n",
    "        'production amount': 1,\n",
    "        'activity type': 'ordinary transforming activity',\n",
    "        'comment': 'Normal activity, uncertainty lognormal',\n",
    "        'exchanges': [\n",
    "            {\n",
    "                'name': 'a',\n",
    "                'unit': 'kg',\n",
    "                'amount': 1.0,\n",
    "                'input': ('db1', 'a1'),\n",
    "                'type': 'production',\n",
    "                'uncertainty type': 0,\n",
    "            },\n",
    "            {\n",
    "                'name': 'Some emission',\n",
    "                'unit': 'kg',\n",
    "                'amount': 1,\n",
    "                'input': ('bio', 'emission'),\n",
    "                'type': 'biosphere',\n",
    "                'uncertainty type': 2,\n",
    "                'loc': np.log(1),\n",
    "                'scale': 0.1,\n",
    "            },\n",
    "            {\n",
    "                'name': 'land from',\n",
    "                'unit': 'square meter',\n",
    "                'amount': 1,\n",
    "                'input': ('bio', 'land from'),\n",
    "                'type': 'biosphere',\n",
    "                'uncertainty type': 5,\n",
    "                'loc': 1,\n",
    "                'minimum': 0.5,\n",
    "                'maximum': 1.5,\n",
    "            },\n",
    "            {\n",
    "                'name': 'land to',\n",
    "                'unit': 'square meter',\n",
    "                'amount': 1,\n",
    "                'input': ('bio', 'land to'),\n",
    "                'type': 'biosphere',\n",
    "                'uncertainty type': 5,\n",
    "                'loc': 1,\n",
    "                'minimum': 0.5,\n",
    "                'maximum': 1.5,\n",
    "            },\n",
    "            {\n",
    "                'name': 'water in',\n",
    "                'unit': 'cubic meter',\n",
    "                'amount': 1,\n",
    "                'input': ('bio', 'water in'),\n",
    "                'type': 'biosphere',\n",
    "                'uncertainty type': 2,\n",
    "                'loc': np.log(1),\n",
    "                'scale': 0.1,\n",
    "            },\n",
    "            {\n",
    "                'name': 'water out',\n",
    "                'unit': 'cubic meter',\n",
    "                'amount': 1,\n",
    "                'input': ('bio', 'water out'),\n",
    "                'type': 'biosphere',\n",
    "                'uncertainty type': 2,\n",
    "                'loc': np.log(1),\n",
    "                'scale': 0.1,\n",
    "            }\n",
    "        ],\n",
    "    },\n",
    "    ('db1', \"a2\"): {\n",
    "        'type': 'process',\n",
    "        'name': 'a, producer a2',\n",
    "        'unit': 'kg',\n",
    "        'location': 'GLO',\n",
    "        'reference product': 'a',\n",
    "        'production amount': 1,\n",
    "        'activity type': 'ordinary transforming activity',\n",
    "        'comment': 'Normal activity, uncertainty triangular',\n",
    "        'exchanges': [\n",
    "            {\n",
    "                'name': 't',\n",
    "                'unit': 'kg',\n",
    "                'amount': 1.0,\n",
    "                'input': ('db1', 'a2'),\n",
    "                'type': 'production',\n",
    "                'uncertainty type': 0,\n",
    "            },\n",
    "            {\n",
    "                'name': 'Some emission',\n",
    "                'unit': 'kg',\n",
    "                'amount': 2,\n",
    "                'input': ('bio', 'emission'),\n",
    "                'type': 'biosphere',\n",
    "                'uncertainty type': 5,\n",
    "                'loc': 2,\n",
    "                'minimum': 1,\n",
    "                'maximum': 3,\n",
    "            },\n",
    "            {\n",
    "                'name': 'land from',\n",
    "                'unit': 'square meter',\n",
    "                'amount': 1,\n",
    "                'input': ('bio', 'land from'),\n",
    "                'type': 'biosphere',\n",
    "                'uncertainty type': 5,\n",
    "                'loc': 1,\n",
    "                'minimum': 0.5,\n",
    "                'maximum': 1.5,\n",
    "            },\n",
    "            {\n",
    "                'name': 'land to',\n",
    "                'unit': 'square meter',\n",
    "                'amount': 1,\n",
    "                'input': ('bio', 'land to'),\n",
    "                'type': 'biosphere',\n",
    "                'uncertainty type': 5,\n",
    "                'loc': 1,\n",
    "                'minimum': 0.5,\n",
    "                'maximum': 1.5,\n",
    "            },\n",
    "            {\n",
    "                'name': 'water in',\n",
    "                'unit': 'cubic meter',\n",
    "                'amount': 1,\n",
    "                'input': ('bio', 'water in'),\n",
    "                'type': 'biosphere',\n",
    "                'uncertainty type': 2,\n",
    "                'loc': np.log(1),\n",
    "                'scale': 0.1,\n",
    "            },\n",
    "            {\n",
    "                'name': 'water out',\n",
    "                'unit': 'cubic meter',\n",
    "                'amount': 1,\n",
    "                'input': ('bio', 'water out'),\n",
    "                'type': 'biosphere',\n",
    "                'uncertainty type': 2,\n",
    "                'loc': np.log(1),\n",
    "                'scale': 0.1,\n",
    "            }\n",
    "        ],\n",
    "    },\n",
    "    ('db1', \"b\"): {\n",
    "        'type': 'process',\n",
    "        'name': 'x, producer b',\n",
    "        'unit': 'kg',\n",
    "        'location': 'GLO',\n",
    "        'reference product': 'x',\n",
    "        'production amount': 1,\n",
    "        'activity type': 'ordinary transforming activity',\n",
    "        'exchanges': [\n",
    "            {\n",
    "                'name': 'x',\n",
    "                'unit': 'kg',\n",
    "                'amount': 1.0,\n",
    "                'input': ('db1', 'b'),\n",
    "                'type': 'production',\n",
    "                'uncertainty type': 0,\n",
    "            },\n",
    "            {\n",
    "                'name': 'a',\n",
    "                'unit': 'kg',\n",
    "                'amount': 0.6,\n",
    "                'input': ('db1', 'a1'),\n",
    "                'type': 'technosphere',\n",
    "                'uncertainty type': 2,\n",
    "                'loc': np.log(0.6),\n",
    "                'scale': 0.1\n",
    "            },\n",
    "            {\n",
    "                'name': 'a', # input from a2\n",
    "                'unit': 'kg',\n",
    "                'amount': 0.4,\n",
    "                'input': ('db1', 'a2'),\n",
    "                'type': 'technosphere',\n",
    "                'uncertainty type': 2,\n",
    "                'loc': np.log(0.4),\n",
    "                'scale': 0.1\n",
    "            },\n",
    "        ],\n",
    "    },\n",
    "})\n"
   ]
  },
  {
   "cell_type": "code",
   "execution_count": null,
   "metadata": {},
   "outputs": [],
   "source": [
    "A_formatted, B_formatted, invA_formatted, G_formatted = format_matrices_simple(database='db1')"
   ]
  },
  {
   "cell_type": "code",
   "execution_count": null,
   "metadata": {},
   "outputs": [],
   "source": [
    "matrix_to_plot(A_formatted, title=None, save_path=r\"../source/images/bw2_eg1_A_orig.jpeg\");"
   ]
  },
  {
   "cell_type": "code",
   "execution_count": null,
   "metadata": {},
   "outputs": [],
   "source": [
    "matrix_data = [\n",
    "    (np.array((0, 1)).reshape(-1, 1), \n",
    "     [\n",
    "         (('db1', 'a1'), ('db1', 'b'), 'technosphere'),\n",
    "         (('db1', 'a2'), ('db1', 'b'), 'technosphere'),\n",
    "     ],\n",
    "     'technosphere'\n",
    "    )\n",
    "]"
   ]
  },
  {
   "cell_type": "code",
   "execution_count": null,
   "metadata": {},
   "outputs": [],
   "source": [
    "import presamples as ps"
   ]
  },
  {
   "cell_type": "code",
   "execution_count": null,
   "metadata": {},
   "outputs": [],
   "source": [
    "_, pp_path = ps.create_presamples_package(matrix_data=matrix_data)"
   ]
  },
  {
   "cell_type": "code",
   "execution_count": null,
   "metadata": {},
   "outputs": [],
   "source": [
    "pp_path"
   ]
  },
  {
   "cell_type": "code",
   "execution_count": null,
   "metadata": {},
   "outputs": [],
   "source": [
    "lca = bw.LCA({('db1', 'b'): 1}, presamples=[pp_path])"
   ]
  },
  {
   "cell_type": "code",
   "execution_count": null,
   "metadata": {},
   "outputs": [],
   "source": [
    "A_formatted_w_ps, B_formatted_w_ps, invA_formatted_w_ps, G_formatted_w_ps = format_matrices_simple(lca=lca)"
   ]
  },
  {
   "cell_type": "code",
   "execution_count": null,
   "metadata": {},
   "outputs": [],
   "source": [
    "matrix_to_plot(A_formatted_w_ps, save_path=r\"../source/images/eg1_A_after.jpeg\");"
   ]
  },
  {
   "cell_type": "markdown",
   "metadata": {},
   "source": [
    "## Simple database used in documentation "
   ]
  },
  {
   "cell_type": "markdown",
   "metadata": {},
   "source": [
    "We need some life cycle inventory (LCI) data to showcase the use of `presamples`. We use a very simple set of fake\n",
    "activities contained in a database \"db\":"
   ]
  },
  {
   "cell_type": "markdown",
   "metadata": {},
   "source": [
    "![title](../data/A_as_diagram.jpg)"
   ]
  },
  {
   "cell_type": "markdown",
   "metadata": {},
   "source": [
    "The importing of \"db\" in Brightway2 is done in another Notebook, available [here](https://github.com/PascalLesage/presamples/blob/master/docs/notebooks/Importing_sample_databases_for_documentation.ipynb). You need to run that other Notebook in order to import the data on your own computer.  \n",
    "Once imported, you can access the database by setting your current brightway project to the one where the data was imported (\"presamples doc\" if you followed along in the other notebook)."
   ]
  },
  {
   "cell_type": "code",
   "execution_count": null,
   "metadata": {},
   "outputs": [],
   "source": [
    "# Import Brightway2 and switch to project with the sample databases:\n",
    "import brightway2 as bw\n",
    "bw.projects.set_current(\"presamples doc\")\n",
    "bw.databases"
   ]
  },
  {
   "cell_type": "markdown",
   "metadata": {},
   "source": [
    "The actual data contained in the database can be presented via the technosphere $\\mathbf{A}$ and biosphere $\\mathbf{B}$ matrices. In the following matrix images, row and column headers show both the name and the key of the activity or elementary flow. "
   ]
  },
  {
   "cell_type": "code",
   "execution_count": null,
   "metadata": {},
   "outputs": [],
   "source": [
    "# Generate DataFrame versions of the matrices\n",
    "A, B, _, _ = format_matrices(database='db1')\n",
    "matrix_to_plot(A, return_fig=True, title=\"Technosphere matrix \\n$\\mathbf{A}$\", save_path=r\"../data/A.jpg\");"
   ]
  },
  {
   "cell_type": "code",
   "execution_count": null,
   "metadata": {},
   "outputs": [],
   "source": [
    "# Plot the A matrix\n",
    "matrix_to_plot(A, return_fig=True, title=\"Technosphere matrix \\n$\\mathbf{A}$\", save_path=r\"../data/A.jpg\");"
   ]
  },
  {
   "cell_type": "code",
   "execution_count": null,
   "metadata": {},
   "outputs": [],
   "source": [
    "# Plot the B matrix\n",
    "matrix_to_plot(B, return_fig=True, title=\"Biosphere matrix \\n$\\mathbf{B}$\", save_path=r\"../data/B.jpg\");"
   ]
  },
  {
   "cell_type": "markdown",
   "metadata": {},
   "source": [
    "## Run through"
   ]
  },
  {
   "cell_type": "markdown",
   "metadata": {},
   "source": [
    "To create a presample package, one needs to pass:\n",
    "  - information about matrix indices,  \n",
    "  - values for the cells at these matrix indices.  \n",
    "\n",
    "Take a simple case: we want to (attributionally) analyse a scenario where production activity prod_A1 begins to send all its waste to treatment activity treat_W1. This can be done by replacing two numbers in the A matrix. \n",
    "- The exchange from prod_A1 to market_A is set to 0  \n",
    "- The exchange from prod_A1 to treat_W1 is set to 1\n",
    "\n",
    "The corresponding matrix indices and samples (in this case, one single observation per parameter) are defined as follows: "
   ]
  },
  {
   "cell_type": "markdown",
   "metadata": {},
   "source": [
    "Import packages:"
   ]
  },
  {
   "cell_type": "code",
   "execution_count": null,
   "metadata": {},
   "outputs": [],
   "source": [
    "import presamples as ps"
   ]
  },
  {
   "cell_type": "code",
   "execution_count": null,
   "metadata": {},
   "outputs": [],
   "source": [
    "indices = [\n",
    "    (('my database', 'treat_1'), ('my database', 'prod_A1'), 'technosphere'),\n",
    "    (('my database', 'treat_market'), ('my database', 'prod_A1'), 'technosphere'),\n",
    "]\n",
    "samples = np.array([-0.2, 0]).reshape(-1, 1)"
   ]
  },
  {
   "cell_type": "code",
   "execution_count": null,
   "metadata": {},
   "outputs": [],
   "source": [
    "ps_id, ps_path = ps.create_presamples_package(matrix_data=[(samples, indices, 'technosphere')])"
   ]
  },
  {
   "cell_type": "code",
   "execution_count": null,
   "metadata": {},
   "outputs": [],
   "source": [
    "lca = bw.LCA({('my database', 'prod_Amarket'): 1}, method=('fake method', 'emission'))\n",
    "lca_with_presamples = bw.LCA({('my database', 'prod_Amarket'):1}, presamples=[ps_path], method=('fake method', 'emission',))"
   ]
  },
  {
   "cell_type": "code",
   "execution_count": null,
   "metadata": {},
   "outputs": [],
   "source": [
    "lca.lci()\n",
    "lca_with_presamples.lci()\n",
    "lca.lcia()\n",
    "lca_with_presamples.lcia()"
   ]
  },
  {
   "cell_type": "code",
   "execution_count": null,
   "metadata": {},
   "outputs": [],
   "source": [
    "lca_with_presamples.technosphere_matrix.todense()==lca.technosphere_matrix.todense()"
   ]
  },
  {
   "cell_type": "code",
   "execution_count": null,
   "metadata": {},
   "outputs": [],
   "source": [
    "A, B, invA, G = format_matrices(lca)"
   ]
  },
  {
   "cell_type": "code",
   "execution_count": null,
   "metadata": {},
   "outputs": [],
   "source": [
    "format_A_matrix(lca).loc[:, str(bw.get_activity(('my database', 'prod_A1')))]"
   ]
  },
  {
   "cell_type": "code",
   "execution_count": null,
   "metadata": {},
   "outputs": [],
   "source": [
    "format_A_matrix(lca_with_presamples).loc[:, str(bw.get_activity(('my database', 'prod_A1')))]"
   ]
  },
  {
   "cell_type": "code",
   "execution_count": null,
   "metadata": {},
   "outputs": [],
   "source": [
    "lca_with_presamples.score/lca.score"
   ]
  },
  {
   "cell_type": "code",
   "execution_count": null,
   "metadata": {},
   "outputs": [],
   "source": []
  },
  {
   "cell_type": "markdown",
   "metadata": {},
   "source": [
    "## Passing matrix data to presample creation"
   ]
  },
  {
   "cell_type": "markdown",
   "metadata": {},
   "source": [
    "SEE NOTEBOOK FOR FULL DESCIPTIONS  \n",
    "To write presamples, one must provide two things: \n",
    "- Values, with each row representing a cell in a given matrix and each column one set of values for these cells; \n",
    "- Indices, which inform the matrix and the matrix coordinates that the values correspond to.  \n",
    "\n",
    "Values are stored in "
   ]
  },
  {
   "cell_type": "code",
   "execution_count": null,
   "metadata": {},
   "outputs": [],
   "source": []
  },
  {
   "cell_type": "markdown",
   "metadata": {},
   "source": [
    "Suppose we want to (attributionally) analyse the scenario where production activity prod_A1 begins to send all its waste to treatment activity treat_W1. This can be done by replacing two numbers in the A matrix:  \n",
    "- The exchange from prod_A1 to market_A is set to 0  \n",
    "- The exchange from prod_A1 to treat_W1 is set to 1  \n",
    "\n",
    "This scenario can be expressed as a combination of values (0, 1) and matrix indices for a given matrix (A)."
   ]
  },
  {
   "cell_type": "code",
   "execution_count": null,
   "metadata": {},
   "outputs": [],
   "source": []
  },
  {
   "cell_type": "markdown",
   "metadata": {},
   "source": [
    "## Using presamples in LCA"
   ]
  },
  {
   "cell_type": "markdown",
   "metadata": {},
   "source": [
    "## Using presamples in MonteCarloLCA"
   ]
  },
  {
   "cell_type": "markdown",
   "metadata": {},
   "source": [
    "## Fixed sum helper model"
   ]
  },
  {
   "cell_type": "markdown",
   "metadata": {},
   "source": [
    "## Kronecker delta helper model"
   ]
  },
  {
   "cell_type": "markdown",
   "metadata": {},
   "source": [
    "## Parameterized brightway models"
   ]
  },
  {
   "cell_type": "code",
   "execution_count": null,
   "metadata": {},
   "outputs": [],
   "source": []
  }
 ],
 "metadata": {
  "kernelspec": {
   "display_name": "Python 3",
   "language": "python",
   "name": "python3"
  },
  "language_info": {
   "codemirror_mode": {
    "name": "ipython",
    "version": 3
   },
   "file_extension": ".py",
   "mimetype": "text/x-python",
   "name": "python",
   "nbconvert_exporter": "python",
   "pygments_lexer": "ipython3",
   "version": "3.7.3"
  },
  "toc": {
   "base_numbering": 1,
   "nav_menu": {},
   "number_sections": false,
   "sideBar": true,
   "skip_h1_title": true,
   "title_cell": "Table of Contents",
   "title_sidebar": "Contents",
   "toc_cell": true,
   "toc_position": {},
   "toc_section_display": true,
   "toc_window_display": true
  },
  "varInspector": {
   "cols": {
    "lenName": 16,
    "lenType": 16,
    "lenVar": 40
   },
   "kernels_config": {
    "python": {
     "delete_cmd_postfix": "",
     "delete_cmd_prefix": "del ",
     "library": "var_list.py",
     "varRefreshCmd": "print(var_dic_list())"
    },
    "r": {
     "delete_cmd_postfix": ") ",
     "delete_cmd_prefix": "rm(",
     "library": "var_list.r",
     "varRefreshCmd": "cat(var_dic_list()) "
    }
   },
   "types_to_exclude": [
    "module",
    "function",
    "builtin_function_or_method",
    "instance",
    "_Feature"
   ],
   "window_display": false
  }
 },
 "nbformat": 4,
 "nbformat_minor": 2
}
