{
 "cells": [
  {
   "cell_type": "code",
   "execution_count": 1,
   "metadata": {},
   "outputs": [],
   "source": [
    "%matplotlib inline"
   ]
  },
  {
   "cell_type": "markdown",
   "metadata": {},
   "source": [
    "Make sure you have the latest versions of bw2calc, presamples, bw2parameters, etc.!"
   ]
  },
  {
   "cell_type": "code",
   "execution_count": 2,
   "metadata": {},
   "outputs": [],
   "source": [
    "import presamples\n",
    "import brightway2 as bw\n",
    "import matplotlib.pyplot as plt"
   ]
  },
  {
   "cell_type": "code",
   "execution_count": 3,
   "metadata": {},
   "outputs": [],
   "source": [
    "bw.projects.set_current(\"Parameterized foreground GSA\")"
   ]
  },
  {
   "cell_type": "code",
   "execution_count": 4,
   "metadata": {},
   "outputs": [],
   "source": [
    "db = bw.Database(\"ecoinvent 3.4 cutoff\")\n",
    "assert len(db), \"must install ecoinvent\"\n",
    "assert len(bw.Database(\"biosphere3\")), \"must run bw2setup\"\n",
    "assert len(bw.methods), \"must run bw2setup\""
   ]
  },
  {
   "cell_type": "code",
   "execution_count": 4,
   "metadata": {},
   "outputs": [
    {
     "name": "stdout",
     "output_type": "stream",
     "text": [
      "Extracted 1 worksheets in 0.01 seconds\n",
      "Applying strategy: csv_restore_tuples\n",
      "Applying strategy: csv_restore_booleans\n",
      "Applying strategy: csv_numerize\n",
      "Applying strategy: csv_drop_unknown\n",
      "Applying strategy: csv_add_missing_exchanges_section\n",
      "Applying strategy: normalize_units\n",
      "Applying strategy: normalize_biosphere_categories\n",
      "Applying strategy: normalize_biosphere_names\n",
      "Applying strategy: strip_biosphere_exc_locations\n",
      "Applying strategy: set_code_by_activity_hash\n",
      "Applying strategy: link_iterable_by_fields\n",
      "Applying strategy: assign_only_product_as_production\n",
      "Applying strategy: link_technosphere_by_activity_hash\n",
      "Applying strategy: drop_falsey_uncertainty_fields_but_keep_zeros\n",
      "Applying strategy: convert_uncertainty_types_to_integers\n",
      "Applied 15 strategies in 0.26 seconds\n",
      "Applying strategy: link_iterable_by_fields\n",
      "Couldn't apply strategy link_iterable_by_fields:\n",
      "\tObject in source database can't be uniquely linked to target database.\n",
      "Problematic dataset is:\n",
      "{'filename': '(missing)', 'location': 'RoW', 'name': 'tofu production'}\n",
      "Possible targets include (at least one not shown):\n",
      "[{'filename': '3f63e186-5c76-4935-bfe1-229604643ea4_880a4a66-9bfb-4830-9a5b-6a4502cbff78.spold',\n",
      "  'location': 'RoW',\n",
      "  'name': 'tofu production'},\n",
      " {'filename': '3f63e186-5c76-4935-bfe1-229604643ea4_714ddb02-26ff-4e89-9648-a83aba628628.spold',\n",
      "  'location': 'RoW',\n",
      "  'name': 'tofu production'}]\n",
      "Applying strategy: link_iterable_by_fields\n",
      "Applying strategy: link_iterable_by_fields\n",
      "3 datasets\n",
      "7 exchanges\n",
      "0 unlinked exchanges\n",
      "  \n"
     ]
    },
    {
     "data": {
      "text/plain": [
       "(3, 7, 0)"
      ]
     },
     "execution_count": 4,
     "metadata": {},
     "output_type": "execute_result"
    }
   ],
   "source": [
    "e = bw.ExcelImporter(\"parameterized-foreground.xlsx\")\n",
    "e.apply_strategies()\n",
    "e.match_database(\"ecoinvent 3.4 cutoff\", fields=('name', 'location'))\n",
    "e.match_database(\"ecoinvent 3.4 cutoff\", fields=('name', 'location', 'reference product'))\n",
    "e.match_database(fields=[\"name\"])\n",
    "e.statistics()"
   ]
  },
  {
   "cell_type": "code",
   "execution_count": 5,
   "metadata": {},
   "outputs": [
    {
     "name": "stderr",
     "output_type": "stream",
     "text": [
      "Writing activities to SQLite3 database:\n",
      "0%  100%\n",
      "[###] | ETA: 00:00:00\n",
      "Total time elapsed: 00:00:00\n"
     ]
    },
    {
     "name": "stdout",
     "output_type": "stream",
     "text": [
      "Title: Writing activities to SQLite3 database:\n",
      "  Started: 05/11/2018 18:02:03\n",
      "  Finished: 05/11/2018 18:02:03\n",
      "  Total time elapsed: 00:00:00\n",
      "  CPU %: 111.00\n",
      "  Memory %: 0.58\n",
      "Created database: Weekend break\n"
     ]
    }
   ],
   "source": [
    "e.write_database()"
   ]
  },
  {
   "cell_type": "code",
   "execution_count": 6,
   "metadata": {},
   "outputs": [],
   "source": [
    "from presamples.models import ParameterizedBrightwayModel"
   ]
  },
  {
   "cell_type": "code",
   "execution_count": 7,
   "metadata": {},
   "outputs": [],
   "source": [
    "model = ParameterizedBrightwayModel(\"weekend_trip_gsa\")           # Name of parameter group\n",
    "model.load_parameter_data()                                       # Load data from parameters database\n",
    "model.calculate_stochastic(iterations=1000, update_amounts=True)  # 1000 Monte Carlo iterations; keep results\n",
    "model.calculate_matrix_presamples()                               # Transform results to be useful in LCA calculations\n",
    "_, filepath = model.save_presample(\"gsa_example\") "
   ]
  },
  {
   "cell_type": "code",
   "execution_count": 8,
   "metadata": {},
   "outputs": [
    {
     "data": {
      "text/plain": [
       "PosixPath('/Users/cmutel/Library/Application Support/Brightway3/Parameterized-foreground-GSA.1ce37c4de59056c11cd7b47e75414782/presamples/e57561335f1647d4bb0d3d9c27a73e37')"
      ]
     },
     "execution_count": 8,
     "metadata": {},
     "output_type": "execute_result"
    }
   ],
   "source": [
    "filepath"
   ]
  },
  {
   "cell_type": "code",
   "execution_count": 4,
   "metadata": {},
   "outputs": [],
   "source": [
    "filepath = '/Users/cmutel/Library/Application Support/Brightway3/Parameterized-foreground-GSA.1ce37c4de59056c11cd7b47e75414782/presamples/e57561335f1647d4bb0d3d9c27a73e37'"
   ]
  },
  {
   "cell_type": "code",
   "execution_count": 11,
   "metadata": {},
   "outputs": [
    {
     "data": {
      "text/plain": [
       "(array([6., 1., 0., 1., 3., 0., 6., 1., 1., 1.]),\n",
       " array([ 4.70717409,  9.70736654, 14.707559  , 19.70775146, 24.70794391,\n",
       "        29.70813637, 34.70832883, 39.70852129, 44.70871374, 49.7089062 ,\n",
       "        54.70909866]),\n",
       " <a list of 1 Patch objects>)"
      ]
     },
     "execution_count": 11,
     "metadata": {},
     "output_type": "execute_result"
    },
    {
     "data": {
      "image/png": "[encoded data removed]",
      "text/plain": [
       "<matplotlib.figure.Figure at 0x1a1e1ae8d0>"
      ]
     },
     "metadata": {},
     "output_type": "display_data"
    }
   ],
   "source": [
    "mc = bw.MonteCarloLCA({(\"Weekend break\", \"break\"): 1}, ('ReCiPe Endpoint (E,A)', 'total', 'total'), presamples=[filepath])\n",
    "\n",
    "results = []\n",
    "\n",
    "for _ in range(20):\n",
    "    next(mc)\n",
    "    # print(mc.score, mc.presamples.parameters[0]['weekend_trip_gsa__transport_mode'] > 0.5)\n",
    "    results.append(mc.score)\n",
    "\n",
    "plt.hist(results, histtype=\"step\")"
   ]
  },
  {
   "cell_type": "code",
   "execution_count": 9,
   "metadata": {},
   "outputs": [
    {
     "data": {
      "text/plain": [
       "[('weekend_trip_gsa__food_consumed', 1.0),\n",
       " ('weekend_trip_gsa__hungry', 0.8683699151910227),\n",
       " ('weekend_trip_gsa__transport_mode', 0.05596176194411029),\n",
       " ('weekend_trip_gsa__vegetarian', 0.8600932648197973)]"
      ]
     },
     "execution_count": 9,
     "metadata": {},
     "output_type": "execute_result"
    }
   ],
   "source": [
    "list(mc.presamples.parameters[0].items())"
   ]
  },
  {
   "cell_type": "code",
   "execution_count": null,
   "metadata": {},
   "outputs": [],
   "source": []
  },
  {
   "cell_type": "code",
   "execution_count": null,
   "metadata": {},
   "outputs": [],
   "source": []
  },
  {
   "cell_type": "markdown",
   "metadata": {},
   "source": [
    "# Global Sensitivity Analysis\n",
    "\n",
    "We use the technique of [Plischke et al 2013](http://www.sciencedirect.com/science/article/pii/S0377221712008995) as implemented in [SALib](http://joss.theoj.org/papers/431262803744581c1d4b6a95892d3343). We adapt [this code](https://github.com/SALib/SALib/blob/master/SALib/analyze/delta.py) for our input data structure."
   ]
  },
  {
   "cell_type": "code",
   "execution_count": null,
   "metadata": {},
   "outputs": [],
   "source": [
    "def analyze(X, Y, num_resamples=10, conf_level=0.95):\n",
    "    \"\"\"Perform Delta Moment-Independent Analysis on model outputs.\n",
    "    \n",
    "    Returns a dictionary with keys 'delta', 'delta_conf', 'S1', and 'S1_conf',\n",
    "    where each entry is a list of size D (the number of parameters) containing\n",
    "    the indices in the same order as the parameter file.\n",
    "    \n",
    "    Parameters\n",
    "    ----------\n",
    "    X: A NumPy array containing the model inputs. Parameters are columns, samples are rows.\n",
    "    Y : A NumPy array containing the model outputs\n",
    "    num_resamples : int\n",
    "        The number of bootstrap resamples when computing confidence intervals (default 10)\n",
    "    conf_level : float\n",
    "        The confidence interval level (default 0.95)\n",
    "        \n",
    "    References\n",
    "    ----------\n",
    "    .. [1] Borgonovo, E. (2007). \"A new uncertainty importance measure.\"\n",
    "           Reliability Engineering & System Safety, 92(6):771-784,\n",
    "           doi:10.1016/j.ress.2006.04.015.\n",
    "           \n",
    "    .. [2] Plischke, E., E. Borgonovo, and C. L. Smith (2013). \"Global\n",
    "           sensitivity measures from given data.\" European Journal of\n",
    "           Operational Research, 226(3):536-550, doi:10.1016/j.ejor.2012.11.047.\n",
    "           \n",
    "    \"\"\"\n",
    "\n",
    "    D = X.shape[1]\n",
    "    N = Y.size\n",
    "\n",
    "    if not 0 < conf_level < 1:\n",
    "        raise RuntimeError(\"Confidence level must be between 0-1.\")\n",
    "\n",
    "    # equal frequency partition\n",
    "    M = min(np.ceil(N ** (2 / (7 + np.tanh((1500 - N) / 500)))), 48)\n",
    "    m = np.linspace(0, N, M + 1)\n",
    "    Ygrid = np.linspace(np.min(Y), np.max(Y), 100)\n",
    "\n",
    "    keys = ('delta', 'delta_conf', 'S1', 'S1_conf')\n",
    "    S = dict((k, np.zeros(D)) for k in keys)\n",
    "\n",
    "    for i in range(D):\n",
    "        S['delta'][i], S['delta_conf'][i] = bias_reduced_delta(\n",
    "            Y, Ygrid, X[:, i], m, num_resamples, conf_level)\n",
    "        S['S1'][i] = sobol_first(Y, X[:, i], m)\n",
    "        S['S1_conf'][i] = sobol_first_conf(\n",
    "            Y, X[:, i], m, num_resamples, conf_level)\n",
    "\n",
    "    return S\n",
    "\n",
    "# Plischke et al. 2013 estimator (eqn 26) for d_hat\n",
    "\n",
    "def calc_delta(Y, Ygrid, X, m):\n",
    "    N = len(Y)\n",
    "    fy = gaussian_kde(Y, bw_method='silverman')(Ygrid)\n",
    "    xr = rankdata(X, method='ordinal')\n",
    "\n",
    "    d_hat = 0\n",
    "    for j in range(len(m) - 1):\n",
    "        ix = np.where((xr > m[j]) & (xr <= m[j + 1]))[0]\n",
    "        nm = len(ix)\n",
    "        fyc = gaussian_kde(Y[ix], bw_method='silverman')(Ygrid)\n",
    "        d_hat += (nm / (2 * N)) * np.trapz(np.abs(fy - fyc), Ygrid)\n",
    "\n",
    "    return d_hat\n",
    "\n",
    "# Plischke et al. 2013 bias reduction technique (eqn 30)\n",
    "\n",
    "def bias_reduced_delta(Y, Ygrid, X, m, num_resamples, conf_level):\n",
    "    d = np.zeros(num_resamples)\n",
    "    d_hat = calc_delta(Y, Ygrid, X, m)\n",
    "\n",
    "    for i in range(num_resamples):\n",
    "        r = np.random.randint(len(Y), size=len(Y))\n",
    "        d[i] = calc_delta(Y[r], Ygrid, X[r], m)\n",
    "\n",
    "    d = 2 * d_hat - d\n",
    "    return (d.mean(), norm.ppf(0.5 + conf_level / 2) * d.std(ddof=1))\n",
    "\n",
    "\n",
    "def sobol_first(Y, X, m):\n",
    "    xr = rankdata(X, method='ordinal')\n",
    "    Vi = 0\n",
    "    N = len(Y)\n",
    "    for j in range(len(m) - 1):\n",
    "        ix = np.where((xr > m[j]) & (xr <= m[j + 1]))[0]\n",
    "        nm = len(ix)\n",
    "        Vi += (nm / N) * (Y[ix].mean() - Y.mean()) ** 2\n",
    "    return Vi / np.var(Y)\n",
    "\n",
    "\n",
    "def sobol_first_conf(Y, X, m, num_resamples, conf_level):\n",
    "    s = np.zeros(num_resamples)\n",
    "\n",
    "    for i in range(num_resamples):\n",
    "        r = np.random.randint(len(Y), size=len(Y))\n",
    "        s[i] = sobol_first(Y[r], X[r], m)\n",
    "\n",
    "    return norm.ppf(0.5 + conf_level / 2) * s.std(ddof=1)"
   ]
  },
  {
   "cell_type": "code",
   "execution_count": null,
   "metadata": {},
   "outputs": [],
   "source": [
    "results = {}\n",
    "\n",
    "for method in pyprind.prog_bar(('CED', 'GWP', 'HTP', 'MDP', 'PMFP', 'POFP')):\n",
    "    output = analyze(inputs_as_array, data[method].as_matrix())\n",
    "    # Doesn't sum to one because of bias reduction\n",
    "    total = output['delta'].sum()\n",
    "    labelled = sorted([(x / total, y) for y, x in zip(independent_params, output['delta'])], reverse=True)\n",
    "    labelled = [(x, y, z) for (x, z), y in zip(labelled, np.cumsum([x[0] for x in labelled]))]\n",
    "    results[method] = pd.DataFrame(labelled, columns=['Sensitivity', 'Cumulative', 'Label'])"
   ]
  },
  {
   "cell_type": "code",
   "execution_count": null,
   "metadata": {},
   "outputs": [],
   "source": []
  }
 ],
 "metadata": {
  "kernelspec": {
   "display_name": "Python 3",
   "language": "python",
   "name": "python3"
  },
  "language_info": {
   "codemirror_mode": {
    "name": "ipython",
    "version": 3
   },
   "file_extension": ".py",
   "mimetype": "text/x-python",
   "name": "python",
   "nbconvert_exporter": "python",
   "pygments_lexer": "ipython3",
   "version": "3.6.4"
  },
  "toc": {
   "colors": {
    "hover_highlight": "#DAA520",
    "running_highlight": "#FF0000",
    "selected_highlight": "#FFD700"
   },
   "moveMenuLeft": true,
   "nav_menu": {
    "height": "12px",
    "width": "252px"
   },
   "navigate_menu": true,
   "number_sections": true,
   "sideBar": true,
   "threshold": 4,
   "toc_cell": false,
   "toc_section_display": "block",
   "toc_window_display": false
  }
 },
 "nbformat": 4,
 "nbformat_minor": 2
}
