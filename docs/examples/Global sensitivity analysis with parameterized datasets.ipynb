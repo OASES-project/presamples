{
 "cells": [
  {
   "cell_type": "markdown",
   "metadata": {},
   "source": [
    "# Global sensitivity analysis with parameterized datasets\n",
    "\n",
    "This notebook builds on the companion notebook `Uncertainty assessment with parameterized datasets and presamples`; you should have read and understood that one before starting this.\n",
    "\n",
    "Make sure you have the latest versions of bw2calc, presamples, bw2parameters, etc.!\n",
    "\n",
    "We start by setting up a parameterized foreground database which builds on top of ecoinvent. You *must* have ecoinvent 3.4, cutoff system model, installed, and it *must* be called `\"ecoinvent 3.4 cutoff\"`."
   ]
  },
  {
   "cell_type": "code",
   "execution_count": 1,
   "metadata": {},
   "outputs": [],
   "source": [
    "%matplotlib inline"
   ]
  },
  {
   "cell_type": "code",
   "execution_count": 27,
   "metadata": {},
   "outputs": [],
   "source": [
    "# For some reason I will fix later imports must be in this order\n",
    "import brightway2 as bw\n",
    "import presamples\n",
    "import matplotlib.pyplot as plt\n",
    "import numpy as np\n",
    "import pyprind"
   ]
  },
  {
   "cell_type": "markdown",
   "metadata": {},
   "source": [
    "We also have an example parameterized foreground database. This model is *made up*, and obviously silly."
   ]
  },
  {
   "cell_type": "code",
   "execution_count": 3,
   "metadata": {},
   "outputs": [],
   "source": [
    "import brightway2 as bw\n",
    "bw.projects.set_current(\"Parameterized foreground GSA\")\n",
    "filepath = '/Users/cmutel/Library/Application Support/Brightway3/Parameterized-foreground-GSA.1ce37c4de59056c11cd7b47e75414782/presamples/f87a6c02397546d78e020b59476a2a01'\n",
    "mc_iteration = next(bw.MonteCarloLCA(\n",
    "    {(\"Weekend break\", \"break\"): 1}, \n",
    "    ('ReCiPe Endpoint (E,A)', 'total', 'total'), \n",
    "    presamples=[filepath]\n",
    "))"
   ]
  },
  {
   "cell_type": "code",
   "execution_count": 4,
   "metadata": {},
   "outputs": [],
   "source": [
    "bw.projects.set_current(\"Parameterized foreground GSA\")"
   ]
  },
  {
   "cell_type": "code",
   "execution_count": 7,
   "metadata": {},
   "outputs": [],
   "source": [
    "db = bw.Database(\"ecoinvent 3.4 cutoff\")\n",
    "assert len(db), \"must install ecoinvent\"\n",
    "assert len(bw.Database(\"biosphere3\")), \"must run bw2setup\"\n",
    "assert len(bw.methods), \"must run bw2setup\""
   ]
  },
  {
   "cell_type": "code",
   "execution_count": 8,
   "metadata": {},
   "outputs": [
    {
     "name": "stdout",
     "output_type": "stream",
     "text": [
      "Extracted 1 worksheets in 0.01 seconds\n",
      "Applying strategy: csv_restore_tuples\n",
      "Applying strategy: csv_restore_booleans\n",
      "Applying strategy: csv_numerize\n",
      "Applying strategy: csv_drop_unknown\n",
      "Applying strategy: csv_add_missing_exchanges_section\n",
      "Applying strategy: normalize_units\n",
      "Applying strategy: normalize_biosphere_categories\n",
      "Applying strategy: normalize_biosphere_names\n",
      "Applying strategy: strip_biosphere_exc_locations\n",
      "Applying strategy: set_code_by_activity_hash\n",
      "Applying strategy: link_iterable_by_fields\n",
      "Applying strategy: assign_only_product_as_production\n",
      "Applying strategy: link_technosphere_by_activity_hash\n",
      "Applying strategy: drop_falsey_uncertainty_fields_but_keep_zeros\n",
      "Applying strategy: convert_uncertainty_types_to_integers\n",
      "Applied 15 strategies in 0.93 seconds\n",
      "Applying strategy: link_iterable_by_fields\n",
      "Couldn't apply strategy link_iterable_by_fields:\n",
      "\tObject in source database can't be uniquely linked to target database.\n",
      "Problematic dataset is:\n",
      "{'filename': '(missing)', 'location': 'RoW', 'name': 'tofu production'}\n",
      "Possible targets include (at least one not shown):\n",
      "[{'filename': '3f63e186-5c76-4935-bfe1-229604643ea4_8b2dfb58-660d-44eb-b83f-5d9e28e467db.spold',\n",
      "  'location': 'RoW',\n",
      "  'name': 'tofu production'},\n",
      " {'filename': '3f63e186-5c76-4935-bfe1-229604643ea4_880a4a66-9bfb-4830-9a5b-6a4502cbff78.spold',\n",
      "  'location': 'RoW',\n",
      "  'name': 'tofu production'}]\n",
      "Applying strategy: link_iterable_by_fields\n",
      "Applying strategy: link_iterable_by_fields\n",
      "3 datasets\n",
      "7 exchanges\n",
      "0 unlinked exchanges\n",
      "  \n"
     ]
    },
    {
     "data": {
      "text/plain": [
       "(3, 7, 0)"
      ]
     },
     "execution_count": 8,
     "metadata": {},
     "output_type": "execute_result"
    }
   ],
   "source": [
    "e = bw.ExcelImporter(\"parameterized-foreground.xlsx\")\n",
    "e.apply_strategies()\n",
    "e.match_database(\"ecoinvent 3.4 cutoff\", fields=('name', 'location'))\n",
    "e.match_database(\"ecoinvent 3.4 cutoff\", fields=('name', 'location', 'reference product'))\n",
    "e.match_database(fields=[\"name\"])\n",
    "e.statistics()"
   ]
  },
  {
   "cell_type": "code",
   "execution_count": 9,
   "metadata": {},
   "outputs": [
    {
     "name": "stderr",
     "output_type": "stream",
     "text": [
      "Writing activities to SQLite3 database:\n",
      "0%  100%\n",
      "[###] | ETA: 00:00:00\n",
      "Total time elapsed: 00:00:00\n"
     ]
    },
    {
     "name": "stdout",
     "output_type": "stream",
     "text": [
      "Title: Writing activities to SQLite3 database:\n",
      "  Started: 05/12/2018 10:54:16\n",
      "  Finished: 05/12/2018 10:54:16\n",
      "  Total time elapsed: 00:00:00\n",
      "  CPU %: 80.10\n",
      "  Memory %: 6.68\n",
      "Created database: Weekend break\n"
     ]
    }
   ],
   "source": [
    "e.write_database()"
   ]
  },
  {
   "cell_type": "markdown",
   "metadata": {},
   "source": [
    "Generate presampled values of our variables and exchanges"
   ]
  },
  {
   "cell_type": "code",
   "execution_count": 10,
   "metadata": {},
   "outputs": [],
   "source": [
    "from presamples.models import ParameterizedBrightwayModel"
   ]
  },
  {
   "cell_type": "code",
   "execution_count": 11,
   "metadata": {},
   "outputs": [],
   "source": [
    "model = ParameterizedBrightwayModel(\"weekend_trip_gsa\")           # Name of parameter group\n",
    "model.load_parameter_data()                                       # Load data from parameters database\n",
    "model.calculate_stochastic(iterations=1000, update_amounts=True)  # 1000 Monte Carlo iterations; keep results\n",
    "model.calculate_matrix_presamples()                               # Transform results to be useful in LCA calculations\n",
    "_, filepath = model.save_presample(\"gsa_example\") "
   ]
  },
  {
   "cell_type": "code",
   "execution_count": 12,
   "metadata": {},
   "outputs": [
    {
     "data": {
      "text/plain": [
       "PosixPath('/Users/cmutel/Library/Application Support/Brightway3/Parameterized-foreground-GSA.1ce37c4de59056c11cd7b47e75414782/presamples/f87a6c02397546d78e020b59476a2a01')"
      ]
     },
     "execution_count": 12,
     "metadata": {},
     "output_type": "execute_result"
    }
   ],
   "source": [
    "filepath"
   ]
  },
  {
   "cell_type": "code",
   "execution_count": 4,
   "metadata": {},
   "outputs": [],
   "source": [
    "filepath = '<insert your value here in case you have to restart the notebook>'"
   ]
  },
  {
   "cell_type": "code",
   "execution_count": 5,
   "metadata": {},
   "outputs": [],
   "source": [
    "filepath = '/Users/cmutel/Library/Application Support/Brightway3/Parameterized-foreground-GSA.1ce37c4de59056c11cd7b47e75414782/presamples/f87a6c02397546d78e020b59476a2a01'"
   ]
  },
  {
   "cell_type": "markdown",
   "metadata": {},
   "source": [
    "# Global Sensitivity Analysis\n",
    "\n",
    "We will use the technique of [Plischke et al 2013](http://www.sciencedirect.com/science/article/pii/S0377221712008995) as implemented in [SALib](http://joss.theoj.org/papers/431262803744581c1d4b6a95892d3343). The advantage of this technique is that it doesn't require a specific sampling strategy.\n",
    "\n",
    "We adapt [the implementation of Plischke from SALib](https://github.com/SALib/SALib/blob/master/SALib/analyze/delta.py) for our input data structure."
   ]
  },
  {
   "cell_type": "code",
   "execution_count": 55,
   "metadata": {},
   "outputs": [],
   "source": [
    "from scipy.stats import gaussian_kde, rankdata, norm\n",
    "\n",
    "def analyze(X, Y, num_resamples=10, conf_level=0.95):\n",
    "    \"\"\"Perform Delta Moment-Independent Analysis on model outputs.\n",
    "    \n",
    "    Returns a dictionary with keys 'delta', 'delta_conf', 'S1', and 'S1_conf',\n",
    "    where each entry is a list of size D (the number of parameters) containing\n",
    "    the indices in the same order as the parameter file.\n",
    "    \n",
    "    Parameters\n",
    "    ----------\n",
    "    X: A NumPy array containing the model inputs. Parameters are columns, samples are rows.\n",
    "    Y : A NumPy array containing the model outputs\n",
    "    num_resamples : int\n",
    "        The number of bootstrap resamples when computing confidence intervals (default 10)\n",
    "    conf_level : float\n",
    "        The confidence interval level (default 0.95)\n",
    "        \n",
    "    References\n",
    "    ----------\n",
    "    .. [1] Borgonovo, E. (2007). \"A new uncertainty importance measure.\"\n",
    "           Reliability Engineering & System Safety, 92(6):771-784,\n",
    "           doi:10.1016/j.ress.2006.04.015.\n",
    "           \n",
    "    .. [2] Plischke, E., E. Borgonovo, and C. L. Smith (2013). \"Global\n",
    "           sensitivity measures from given data.\" European Journal of\n",
    "           Operational Research, 226(3):536-550, doi:10.1016/j.ejor.2012.11.047.\n",
    "           \n",
    "    \"\"\"\n",
    "\n",
    "    D = X.shape[1]\n",
    "    N = Y.size\n",
    "\n",
    "    if not 0 < conf_level < 1:\n",
    "        raise RuntimeError(\"Confidence level must be between 0-1.\")\n",
    "\n",
    "    # equal frequency partition\n",
    "    M = min(np.ceil(N ** (2 / (7 + np.tanh((1500 - N) / 500)))), 48)\n",
    "    m = np.linspace(0, N, M + 1)\n",
    "    Ygrid = np.linspace(np.min(Y), np.max(Y), 100)\n",
    "\n",
    "    keys = ('delta', 'delta_conf', 'S1', 'S1_conf')\n",
    "    S = dict((k, np.zeros(D)) for k in keys)\n",
    "\n",
    "    for i in range(D):\n",
    "        S['delta'][i], S['delta_conf'][i] = bias_reduced_delta(\n",
    "            Y, Ygrid, X[:, i], m, num_resamples, conf_level)\n",
    "        S['S1'][i] = sobol_first(Y, X[:, i], m)\n",
    "        S['S1_conf'][i] = sobol_first_conf(\n",
    "            Y, X[:, i], m, num_resamples, conf_level)\n",
    "\n",
    "    return S\n",
    "\n",
    "# Plischke et al. 2013 estimator (eqn 26) for d_hat\n",
    "\n",
    "def calc_delta(Y, Ygrid, X, m):\n",
    "    N = len(Y)\n",
    "    fy = gaussian_kde(Y, bw_method='silverman')(Ygrid)\n",
    "    xr = rankdata(X, method='ordinal')\n",
    "\n",
    "    d_hat = 0\n",
    "    for j in range(len(m) - 1):\n",
    "        ix = np.where((xr > m[j]) & (xr <= m[j + 1]))[0]\n",
    "        nm = len(ix)\n",
    "        fyc = gaussian_kde(Y[ix], bw_method='silverman')(Ygrid)\n",
    "        d_hat += (nm / (2 * N)) * np.trapz(np.abs(fy - fyc), Ygrid)\n",
    "\n",
    "    return d_hat\n",
    "\n",
    "# Plischke et al. 2013 bias reduction technique (eqn 30)\n",
    "\n",
    "def bias_reduced_delta(Y, Ygrid, X, m, num_resamples, conf_level):\n",
    "    d = np.zeros(num_resamples)\n",
    "    d_hat = calc_delta(Y, Ygrid, X, m)\n",
    "\n",
    "    for i in range(num_resamples):\n",
    "        r = np.random.randint(len(Y), size=len(Y))\n",
    "        d[i] = calc_delta(Y[r], Ygrid, X[r], m)\n",
    "\n",
    "    d = 2 * d_hat - d\n",
    "    return (d.mean(), norm.ppf(0.5 + conf_level / 2) * d.std(ddof=1))\n",
    "\n",
    "\n",
    "def sobol_first(Y, X, m):\n",
    "    xr = rankdata(X, method='ordinal')\n",
    "    Vi = 0\n",
    "    N = len(Y)\n",
    "    for j in range(len(m) - 1):\n",
    "        ix = np.where((xr > m[j]) & (xr <= m[j + 1]))[0]\n",
    "        nm = len(ix)\n",
    "        Vi += (nm / N) * (Y[ix].mean() - Y.mean()) ** 2\n",
    "    return Vi / np.var(Y)\n",
    "\n",
    "\n",
    "def sobol_first_conf(Y, X, m, num_resamples, conf_level):\n",
    "    s = np.zeros(num_resamples)\n",
    "\n",
    "    for i in range(num_resamples):\n",
    "        r = np.random.randint(len(Y), size=len(Y))\n",
    "        s[i] = sobol_first(Y[r], X[r], m)\n",
    "\n",
    "    return norm.ppf(0.5 + conf_level / 2) * s.std(ddof=1)"
   ]
  },
  {
   "cell_type": "markdown",
   "metadata": {},
   "source": [
    "How do we define the inputs correctly? We don't want to assess all the uncertain parameters in ecoinvent, but we do want to include the named parameters in our foreground inventory, as well as the activities directly used by the foreground."
   ]
  },
  {
   "cell_type": "code",
   "execution_count": 7,
   "metadata": {},
   "outputs": [
    {
     "data": {
      "text/plain": [
       "15.725105753061001"
      ]
     },
     "execution_count": 7,
     "metadata": {},
     "output_type": "execute_result"
    }
   ],
   "source": [
    "mc = bw.MonteCarloLCA(\n",
    "    {(\"Weekend break\", \"break\"): 1}, \n",
    "    ('ReCiPe Endpoint (E,A)', 'total', 'total'), \n",
    "    presamples=[filepath]\n",
    ")\n",
    "next(mc)"
   ]
  },
  {
   "cell_type": "markdown",
   "metadata": {},
   "source": [
    "## GSA inputs: named parameters\n",
    "\n",
    "To get named parameter values per Monte Carlo iteration, we can look at `mc.presamples.parameters`. This is a list (there can be more than one presample package provided), but we only need the first. The returned object acts like a dictionary:"
   ]
  },
  {
   "cell_type": "code",
   "execution_count": 8,
   "metadata": {},
   "outputs": [
    {
     "data": {
      "text/plain": [
       "{'weekend_trip_gsa__food_consumed': 1.0,\n",
       " 'weekend_trip_gsa__hungry': 0.7960189082324325,\n",
       " 'weekend_trip_gsa__transport_mode': 0.3480635630230703,\n",
       " 'weekend_trip_gsa__vegetarian': 0.46502832892194335}"
      ]
     },
     "execution_count": 8,
     "metadata": {},
     "output_type": "execute_result"
    }
   ],
   "source": [
    "dict(mc.presamples.parameters[0])"
   ]
  },
  {
   "cell_type": "markdown",
   "metadata": {},
   "source": [
    "## GSA inputs: technosphere and biosphere matrix values\n",
    "\n",
    "Each study will make a different selection of exchange values to include. Here, we take only the technosphere and biosphere exchanges for the activities directly linked to our foreground database. You could make this selection by looking in the database, but we can also filter using the matrices themselves."
   ]
  },
  {
   "cell_type": "code",
   "execution_count": 9,
   "metadata": {},
   "outputs": [
    {
     "data": {
      "text/plain": [
       "<14892x3 sparse matrix of type '<class 'numpy.float64'>'\n",
       "\twith 8 stored elements in Compressed Sparse Row format>"
      ]
     },
     "execution_count": 9,
     "metadata": {},
     "output_type": "execute_result"
    }
   ],
   "source": [
    "ra, rp, rb = mc.reverse_dict()\n",
    "\n",
    "foreground_columns = [col for key, col in mc.activity_dict.items() if key[0] == \"Weekend break\"]\n",
    "subtechnosphere = mc.technosphere_matrix[:, foreground_columns]\n",
    "subtechnosphere"
   ]
  },
  {
   "cell_type": "code",
   "execution_count": 10,
   "metadata": {},
   "outputs": [
    {
     "data": {
      "text/plain": [
       "[324, 1914, 6043]"
      ]
     },
     "execution_count": 10,
     "metadata": {},
     "output_type": "execute_result"
    }
   ],
   "source": [
    "linked_ecoinvent_indices = [row for row in subtechnosphere.tocoo().row\n",
    "                            if rp[row][0] != \"Weekend break\"]\n",
    "linked_ecoinvent_indices"
   ]
  },
  {
   "cell_type": "markdown",
   "metadata": {},
   "source": [
    "However, we need to be a bit clever here (and maybe we should have used the database after all...); we sometimes switch back and forth between inputs, and the zero inputs won't show up. We need to do this procedure over many iterations to make sure we get the entire set of possible inputs."
   ]
  },
  {
   "cell_type": "code",
   "execution_count": 11,
   "metadata": {},
   "outputs": [
    {
     "data": {
      "text/plain": [
       "{324, 1914, 3789, 6043, 12650}"
      ]
     },
     "execution_count": 11,
     "metadata": {},
     "output_type": "execute_result"
    }
   ],
   "source": [
    "ra, rp, rb = mc.reverse_dict()\n",
    "\n",
    "def get_linked_ecoinvent_indices(mc):\n",
    "    return {row for row in \n",
    "            mc.technosphere_matrix[:, [col for key, col in \n",
    "                                       mc.activity_dict.items() \n",
    "                                       if key[0] == \"Weekend break\"]\n",
    "                                  ].tocoo().row\n",
    "            if rp[row][0] != \"Weekend break\"}   \n",
    "\n",
    "all_possible_inputs = set.union(*[get_linked_ecoinvent_indices(mc) for _ in zip(range(10), mc)])\n",
    "all_possible_inputs"
   ]
  },
  {
   "cell_type": "markdown",
   "metadata": {},
   "source": [
    "Those of you paying extra-special attention will notice that we treated `mc` as an iterator *and* and input to the function - and some of you are probably rolling your eyes at the way we are changing global state. Fair enough! Don't try this at home, kids.\n",
    "\n",
    "In any case, we have all five possible inputs, which agrees with what is in our Excel input sheet. We don't actually want the amount of each of these five inputs, as this is already captured in our named parameters. But we do want the inputs to these five activities, as well as their biosphere exchange values.\n",
    "\n",
    "We don't have to worry about multiple iterations from now on, as these are already exchanges in ecoinvent, and will always have some values."
   ]
  },
  {
   "cell_type": "code",
   "execution_count": 12,
   "metadata": {},
   "outputs": [],
   "source": [
    "def get_rows_for_columns(cols, matrix):\n",
    "    indices = []\n",
    "    for col in cols:\n",
    "        submatrix = matrix[:, col].tocoo()\n",
    "        for row in submatrix.row:\n",
    "            indices.append((row, col))\n",
    "    return indices"
   ]
  },
  {
   "cell_type": "code",
   "execution_count": 13,
   "metadata": {},
   "outputs": [],
   "source": [
    "technosphere_exchanges = get_rows_for_columns(all_possible_inputs, mc.technosphere_matrix)\n",
    "biosphere_exchanges = get_rows_for_columns(all_possible_inputs, mc.biosphere_matrix)"
   ]
  },
  {
   "cell_type": "markdown",
   "metadata": {},
   "source": [
    "However, just a tuple of two integers isn't all that helpful - let's change this into something more meaningful."
   ]
  },
  {
   "cell_type": "code",
   "execution_count": 16,
   "metadata": {},
   "outputs": [],
   "source": [
    "def get_exchange_label(row, col, matrix=\"technosphere\"):\n",
    "    if matrix == \"biosphere\":\n",
    "        return (bw.get_activity(rb[row]), bw.get_activity(ra[col]))\n",
    "    else:\n",
    "        return (bw.get_activity(rp[row]), bw.get_activity(ra[col]))        "
   ]
  },
  {
   "cell_type": "markdown",
   "metadata": {},
   "source": [
    "# Managing all uncertain parameters\n",
    "\n",
    "We can create a class that manages our uncertain parameters and LCA values"
   ]
  },
  {
   "cell_type": "code",
   "execution_count": 64,
   "metadata": {},
   "outputs": [],
   "source": [
    "class GSAManager:\n",
    "    def __init__(self, mc, technosphere_indices, biosphere_indices, iterations=1000):\n",
    "        self.named_parameters = sorted(mc.presamples.parameters[0])\n",
    "        self.technosphere_indices = technosphere_indices\n",
    "        self.technosphere_labels = [get_exchange_label(x, y) for x, y in self.technosphere_indices]\n",
    "        self.biosphere_indices = biosphere_indices\n",
    "        self.biosphere_labels = [get_exchange_label(x, y, \"biosphere\") for x, y in self.biosphere_indices]\n",
    "        self.results = np.zeros((iterations,))\n",
    "        self.inputs = np.zeros((\n",
    "            iterations, \n",
    "            sum([len(self.named_parameters), len(self.technosphere_labels), len(self.biosphere_labels)])\n",
    "        ))\n",
    "        self.index = 0\n",
    "        self.mc = mc\n",
    "    \n",
    "    @property\n",
    "    def labels(self):\n",
    "        return self.named_parameters + self.technosphere_labels + self.biosphere_labels\n",
    "    \n",
    "    def calculate(self):\n",
    "        for _ in pyprind.prog_bar(self.results):\n",
    "            next(self.mc)\n",
    "            self.add_iteration()    \n",
    "        self.gsa()\n",
    "            \n",
    "    def add_iteration(self):\n",
    "        if self.index >= self.inputs.shape[0]:\n",
    "            raise ValueError\n",
    "        self.results[self.index] = self.mc.score\n",
    "        for i, j in enumerate(self.named_parameters):\n",
    "            self.inputs[self.index, i] = self.mc.presamples.parameters[0][j]\n",
    "        offset = i + 1\n",
    "        for i, (r, c) in enumerate(self.technosphere_indices):\n",
    "            self.inputs[self.index, i + offset] = self.mc.technosphere_matrix[r, c]\n",
    "        offset += i + 1\n",
    "        for i, (r, c) in enumerate(self.biosphere_indices):\n",
    "            self.inputs[self.index, i + offset] = self.mc.biosphere_matrix[r, c]\n",
    "        self.index += 1\n",
    "    \n",
    "    def gsa(self, num_resamples=10, conf_level=0.95):\n",
    "        self.gsa_result = analyze(\n",
    "            self.inputs, self.results, \n",
    "            num_resamples=num_resamples, conf_level=conf_level\n",
    "        )"
   ]
  },
  {
   "cell_type": "code",
   "execution_count": 69,
   "metadata": {},
   "outputs": [],
   "source": [
    "manager = GSAManager(mc, technosphere_exchanges, biosphere_exchanges, iterations=1000)"
   ]
  },
  {
   "cell_type": "code",
   "execution_count": 70,
   "metadata": {},
   "outputs": [
    {
     "name": "stderr",
     "output_type": "stream",
     "text": [
      "0%                          100%\n",
      "[##############################] | ETA: 00:00:00\n",
      "Total time elapsed: 00:02:27\n",
      "/Users/cmutel/miniconda3/envs/presamples/lib/python3.6/site-packages/ipykernel_launcher.py:39: DeprecationWarning: object of type <class 'numpy.float64'> cannot be safely interpreted as an integer.\n"
     ]
    }
   ],
   "source": [
    "manager.calculate()"
   ]
  },
  {
   "cell_type": "code",
   "execution_count": 71,
   "metadata": {},
   "outputs": [
    {
     "data": {
      "text/plain": [
       "[(0.4087797677941548, 'weekend_trip_gsa__transport_mode'),\n",
       " (0.08664571300211776,\n",
       "  ('Nickel' (kilogram, None, ('air', 'urban air close to ground')),\n",
       "   'transport, passenger car, large size, diesel, EURO 5' (kilometer, RER, None))),\n",
       " (0.07834893981219433,\n",
       "  ('Ethylene oxide' (kilogram, None, ('air', 'urban air close to ground')),\n",
       "   'transport, passenger car, large size, diesel, EURO 5' (kilometer, RER, None))),\n",
       " (0.07821234609276778,\n",
       "  ('Water' (cubic meter, None, ('air',)),\n",
       "   'cabbage white production' (kilogram, GLO, None))),\n",
       " (0.07819884213664993,\n",
       "  ('Methane' (kilogram, None, ('air', 'urban air close to ground')),\n",
       "   'transport, passenger car, large size, diesel, EURO 5' (kilometer, RER, None))),\n",
       " (0.07790196775449938,\n",
       "  ('market for road wear emissions, passenger car' (kilogram, GLO, None),\n",
       "   'transport, passenger car, large size, diesel, EURO 5' (kilometer, RER, None))),\n",
       " (0.07652225153579431,\n",
       "  ('Acetaldehyde' (kilogram, None, ('air', 'urban air close to ground')),\n",
       "   'transport, passenger car, large size, diesel, EURO 5' (kilometer, RER, None))),\n",
       " (0.07540324642905308,\n",
       "  ('Ammonia' (kilogram, None, ('air', 'urban air close to ground')),\n",
       "   'transport, passenger car, large size, diesel, EURO 5' (kilometer, RER, None))),\n",
       " (0.07515670140886119, 'weekend_trip_gsa__food_consumed'),\n",
       " (0.07485367277565938,\n",
       "  ('market for passenger car, diesel' (kilogram, GLO, None),\n",
       "   'transport, passenger car, large size, diesel, EURO 5' (kilometer, RER, None)))]"
      ]
     },
     "execution_count": 71,
     "metadata": {},
     "output_type": "execute_result"
    }
   ],
   "source": [
    "scores = sorted(zip(manager.gsa_result['delta'], manager.labels), reverse=True)\n",
    "scores[:10]"
   ]
  },
  {
   "cell_type": "code",
   "execution_count": 72,
   "metadata": {},
   "outputs": [
    {
     "data": {
      "text/plain": [
       "[(0.4126683678155651, 'weekend_trip_gsa__transport_mode'),\n",
       " (0.026893912517202682, 'weekend_trip_gsa__food_consumed'),\n",
       " (0.016087709574551225,\n",
       "  ('Chromium' (kilogram, None, ('soil', 'agricultural')),\n",
       "   'cabbage white production' (kilogram, GLO, None))),\n",
       " (0.014983993475026557,\n",
       "  ('market group for electricity, medium voltage' (kilowatt hour, RLA, None),\n",
       "   'tofu production' (kilogram, RoW, None))),\n",
       " (0.01328215785961342,\n",
       "  ('Metaldehyde' (kilogram, None, ('soil', 'agricultural')),\n",
       "   'cabbage white production' (kilogram, GLO, None))),\n",
       " (0.01231944285027225,\n",
       "  ('Nickel' (kilogram, None, ('air', 'urban air close to ground')),\n",
       "   'transport, passenger car, large size, diesel, EURO 5' (kilometer, RER, None))),\n",
       " (0.011988399721031747,\n",
       "  ('market for passenger car, diesel' (kilogram, GLO, None),\n",
       "   'transport, passenger car, large size, diesel, EURO 5' (kilometer, RER, None))),\n",
       " (0.011661852752573998,\n",
       "  ('market for road wear emissions, passenger car' (kilogram, GLO, None),\n",
       "   'transport, passenger car, large size, diesel, EURO 5' (kilometer, RER, None))),\n",
       " (0.010860784034749021,\n",
       "  ('Diazinon' (kilogram, None, ('soil', 'agricultural')),\n",
       "   'cabbage white production' (kilogram, GLO, None))),\n",
       " (0.010652059098196444,\n",
       "  ('market for anhydrite rock' (kilogram, CH, None),\n",
       "   'tofu production' (kilogram, RoW, None)))]"
      ]
     },
     "execution_count": 72,
     "metadata": {},
     "output_type": "execute_result"
    }
   ],
   "source": [
    "scores = sorted(zip(manager.gsa_result['S1'], manager.labels), reverse=True)\n",
    "scores[:10]"
   ]
  },
  {
   "cell_type": "code",
   "execution_count": 76,
   "metadata": {},
   "outputs": [
    {
     "data": {
      "text/plain": [
       "(0, 100)"
      ]
     },
     "execution_count": 76,
     "metadata": {},
     "output_type": "execute_result"
    },
    {
     "data": {
      "image/png": "[encoded data removed]",
      "text/plain": [
       "<matplotlib.figure.Figure at 0x1a2787ec88>"
      ]
     },
     "metadata": {},
     "output_type": "display_data"
    }
   ],
   "source": [
    "plt.hist(manager.results, histtype=\"step\", bins=40)\n",
    "plt.xlim(0, 100)"
   ]
  },
  {
   "cell_type": "code",
   "execution_count": null,
   "metadata": {},
   "outputs": [],
   "source": []
  }
 ],
 "metadata": {
  "kernelspec": {
   "display_name": "Python 3",
   "language": "python",
   "name": "python3"
  },
  "language_info": {
   "codemirror_mode": {
    "name": "ipython",
    "version": 3
   },
   "file_extension": ".py",
   "mimetype": "text/x-python",
   "name": "python",
   "nbconvert_exporter": "python",
   "pygments_lexer": "ipython3",
   "version": "3.6.4"
  },
  "toc": {
   "colors": {
    "hover_highlight": "#DAA520",
    "running_highlight": "#FF0000",
    "selected_highlight": "#FFD700"
   },
   "moveMenuLeft": true,
   "nav_menu": {
    "height": "12px",
    "width": "252px"
   },
   "navigate_menu": true,
   "number_sections": true,
   "sideBar": true,
   "threshold": 4,
   "toc_cell": false,
   "toc_section_display": "block",
   "toc_window_display": false
  }
 },
 "nbformat": 4,
 "nbformat_minor": 2
}
